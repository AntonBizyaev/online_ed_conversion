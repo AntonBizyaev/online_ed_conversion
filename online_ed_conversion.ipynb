{
 "cells": [
  {
   "cell_type": "markdown",
   "id": "e7a114a6-aa1e-4ce0-a53e-b6a26c00d948",
   "metadata": {},
   "source": [
    "# Online Education: Trial Class Conversion"
   ]
  },
  {
   "cell_type": "markdown",
   "id": "e116b767-5c2b-4b1d-b290-fa2901047507",
   "metadata": {},
   "source": [
    "An online edtech company offers English classes for kids. It has free trial classes for potential students. Some of them later purchase a full course.\n",
    "\n",
    "**Question**  \n",
    "Which factors determine conversion from a trial class into a purchase?  \n",
    "\n",
    "**Data**  \n",
    "50k raw observations with 20 features for April-May 2019."
   ]
  },
  {
   "cell_type": "markdown",
   "id": "5760286f-39d3-4315-b423-2e2e4d825ea7",
   "metadata": {},
   "source": [
    "# First look"
   ]
  },
  {
   "cell_type": "code",
   "execution_count": 1,
   "id": "a2bd0920-3f5f-46cf-97c9-3d8a08aefc1b",
   "metadata": {},
   "outputs": [],
   "source": [
    "import pandas as pd\n",
    "import matplotlib.pyplot as plt\n",
    "import seaborn as sns\n",
    "import numpy as np\n",
    "import warnings\n",
    "warnings.filterwarnings('ignore')"
   ]
  },
  {
   "cell_type": "code",
   "execution_count": 2,
   "id": "73000da1-f7ac-4dab-b7a5-c6f42f6d0189",
   "metadata": {},
   "outputs": [
    {
     "data": {
      "text/html": [
       "<div>\n",
       "<style scoped>\n",
       "    .dataframe tbody tr th:only-of-type {\n",
       "        vertical-align: middle;\n",
       "    }\n",
       "\n",
       "    .dataframe tbody tr th {\n",
       "        vertical-align: top;\n",
       "    }\n",
       "\n",
       "    .dataframe thead th {\n",
       "        text-align: right;\n",
       "    }\n",
       "</style>\n",
       "<table border=\"1\" class=\"dataframe\">\n",
       "  <thead>\n",
       "    <tr style=\"text-align: right;\">\n",
       "      <th></th>\n",
       "      <th>class_id</th>\n",
       "      <th>parent_id</th>\n",
       "      <th>student_id</th>\n",
       "      <th>teacher_id</th>\n",
       "      <th>teacher_is_native_english_speaker</th>\n",
       "      <th>class_booking_time</th>\n",
       "      <th>class_start_time</th>\n",
       "      <th>class_status</th>\n",
       "      <th>source_of_fail</th>\n",
       "      <th>reason_of_fail</th>\n",
       "      <th>tech_problem_type</th>\n",
       "      <th>class_topic_id</th>\n",
       "      <th>student_needs_level_correction</th>\n",
       "      <th>student_needs_class_redone</th>\n",
       "      <th>student_first_connected</th>\n",
       "      <th>teacher_first_connected</th>\n",
       "      <th>student_device_os_name</th>\n",
       "      <th>student_device_type</th>\n",
       "      <th>student_age</th>\n",
       "      <th>first_payment_time</th>\n",
       "    </tr>\n",
       "  </thead>\n",
       "  <tbody>\n",
       "    <tr>\n",
       "      <th>0</th>\n",
       "      <td>319852918</td>\n",
       "      <td>2185298</td>\n",
       "      <td>1377988</td>\n",
       "      <td>1939364</td>\n",
       "      <td>False</td>\n",
       "      <td>2019-04-09T16:08:07.968Z</td>\n",
       "      <td>2019-04-17T00:00:00Z</td>\n",
       "      <td>cancelled</td>\n",
       "      <td>student</td>\n",
       "      <td>NaN</td>\n",
       "      <td>NaN</td>\n",
       "      <td>NaN</td>\n",
       "      <td>NaN</td>\n",
       "      <td>NaN</td>\n",
       "      <td>NaN</td>\n",
       "      <td>NaN</td>\n",
       "      <td>Android</td>\n",
       "      <td>tablet</td>\n",
       "      <td>3.0</td>\n",
       "      <td>2019-04-26T20:12:41.036Z</td>\n",
       "    </tr>\n",
       "    <tr>\n",
       "      <th>1</th>\n",
       "      <td>319854218</td>\n",
       "      <td>2185298</td>\n",
       "      <td>1377988</td>\n",
       "      <td>1939364</td>\n",
       "      <td>False</td>\n",
       "      <td>2019-04-14T12:29:14.978Z</td>\n",
       "      <td>2019-04-17T00:30:00Z</td>\n",
       "      <td>failed</td>\n",
       "      <td>student</td>\n",
       "      <td>absent</td>\n",
       "      <td>NaN</td>\n",
       "      <td>889.0</td>\n",
       "      <td>NaN</td>\n",
       "      <td>NaN</td>\n",
       "      <td>NaN</td>\n",
       "      <td>2019-04-17T00:26:56.177Z</td>\n",
       "      <td>NaN</td>\n",
       "      <td>NaN</td>\n",
       "      <td>3.0</td>\n",
       "      <td>2019-04-26T20:12:41.036Z</td>\n",
       "    </tr>\n",
       "    <tr>\n",
       "      <th>2</th>\n",
       "      <td>319854219</td>\n",
       "      <td>2185298</td>\n",
       "      <td>1378008</td>\n",
       "      <td>1939364</td>\n",
       "      <td>False</td>\n",
       "      <td>2019-04-09T16:08:14.565Z</td>\n",
       "      <td>2019-04-17T00:30:00Z</td>\n",
       "      <td>cancelled</td>\n",
       "      <td>student</td>\n",
       "      <td>NaN</td>\n",
       "      <td>NaN</td>\n",
       "      <td>NaN</td>\n",
       "      <td>NaN</td>\n",
       "      <td>NaN</td>\n",
       "      <td>NaN</td>\n",
       "      <td>NaN</td>\n",
       "      <td>NaN</td>\n",
       "      <td>NaN</td>\n",
       "      <td>4.0</td>\n",
       "      <td>2019-04-26T20:12:41.036Z</td>\n",
       "    </tr>\n",
       "    <tr>\n",
       "      <th>3</th>\n",
       "      <td>319855519</td>\n",
       "      <td>2185298</td>\n",
       "      <td>1378008</td>\n",
       "      <td>1939364</td>\n",
       "      <td>False</td>\n",
       "      <td>2019-04-14T12:29:21.98Z</td>\n",
       "      <td>2019-04-17T01:00:00Z</td>\n",
       "      <td>failed</td>\n",
       "      <td>student</td>\n",
       "      <td>absent</td>\n",
       "      <td>NaN</td>\n",
       "      <td>905.0</td>\n",
       "      <td>NaN</td>\n",
       "      <td>NaN</td>\n",
       "      <td>NaN</td>\n",
       "      <td>2019-04-17T00:55:10Z</td>\n",
       "      <td>NaN</td>\n",
       "      <td>NaN</td>\n",
       "      <td>4.0</td>\n",
       "      <td>2019-04-26T20:12:41.036Z</td>\n",
       "    </tr>\n",
       "    <tr>\n",
       "      <th>4</th>\n",
       "      <td>658867141</td>\n",
       "      <td>2251219</td>\n",
       "      <td>1430269</td>\n",
       "      <td>4144556</td>\n",
       "      <td>True</td>\n",
       "      <td>2019-04-13T00:31:46.396Z</td>\n",
       "      <td>2019-04-17T01:00:00Z</td>\n",
       "      <td>failed</td>\n",
       "      <td>student</td>\n",
       "      <td>absent</td>\n",
       "      <td>NaN</td>\n",
       "      <td>1310.0</td>\n",
       "      <td>NaN</td>\n",
       "      <td>NaN</td>\n",
       "      <td>NaN</td>\n",
       "      <td>2019-04-17T00:56:38.652Z</td>\n",
       "      <td>NaN</td>\n",
       "      <td>NaN</td>\n",
       "      <td>NaN</td>\n",
       "      <td>NaN</td>\n",
       "    </tr>\n",
       "    <tr>\n",
       "      <th>...</th>\n",
       "      <td>...</td>\n",
       "      <td>...</td>\n",
       "      <td>...</td>\n",
       "      <td>...</td>\n",
       "      <td>...</td>\n",
       "      <td>...</td>\n",
       "      <td>...</td>\n",
       "      <td>...</td>\n",
       "      <td>...</td>\n",
       "      <td>...</td>\n",
       "      <td>...</td>\n",
       "      <td>...</td>\n",
       "      <td>...</td>\n",
       "      <td>...</td>\n",
       "      <td>...</td>\n",
       "      <td>...</td>\n",
       "      <td>...</td>\n",
       "      <td>...</td>\n",
       "      <td>...</td>\n",
       "      <td>...</td>\n",
       "    </tr>\n",
       "    <tr>\n",
       "      <th>49993</th>\n",
       "      <td>846843462</td>\n",
       "      <td>2831385</td>\n",
       "      <td>1912304</td>\n",
       "      <td>2723899</td>\n",
       "      <td>False</td>\n",
       "      <td>2019-05-28T18:32:10.983Z</td>\n",
       "      <td>2019-05-28T20:00:00Z</td>\n",
       "      <td>failed</td>\n",
       "      <td>student</td>\n",
       "      <td>absent</td>\n",
       "      <td>NaN</td>\n",
       "      <td>1310.0</td>\n",
       "      <td>NaN</td>\n",
       "      <td>NaN</td>\n",
       "      <td>NaN</td>\n",
       "      <td>2019-05-28T19:59:14.004Z</td>\n",
       "      <td>Windows</td>\n",
       "      <td>desktop</td>\n",
       "      <td>NaN</td>\n",
       "      <td>NaN</td>\n",
       "    </tr>\n",
       "    <tr>\n",
       "      <th>49994</th>\n",
       "      <td>761681545</td>\n",
       "      <td>2793944</td>\n",
       "      <td>1880673</td>\n",
       "      <td>3713213</td>\n",
       "      <td>False</td>\n",
       "      <td>2019-05-27T19:23:04.208Z</td>\n",
       "      <td>2019-05-28T20:00:00Z</td>\n",
       "      <td>failed</td>\n",
       "      <td>student</td>\n",
       "      <td>absent</td>\n",
       "      <td>NaN</td>\n",
       "      <td>1644.0</td>\n",
       "      <td>NaN</td>\n",
       "      <td>NaN</td>\n",
       "      <td>NaN</td>\n",
       "      <td>2019-05-28T19:55:43.303Z</td>\n",
       "      <td>NaN</td>\n",
       "      <td>NaN</td>\n",
       "      <td>4.0</td>\n",
       "      <td>NaN</td>\n",
       "    </tr>\n",
       "    <tr>\n",
       "      <th>49995</th>\n",
       "      <td>754712303</td>\n",
       "      <td>2824585</td>\n",
       "      <td>1906424</td>\n",
       "      <td>3281970</td>\n",
       "      <td>False</td>\n",
       "      <td>2019-05-28T12:57:00.119Z</td>\n",
       "      <td>2019-05-28T21:00:00Z</td>\n",
       "      <td>failed</td>\n",
       "      <td>student</td>\n",
       "      <td>absent</td>\n",
       "      <td>NaN</td>\n",
       "      <td>1644.0</td>\n",
       "      <td>NaN</td>\n",
       "      <td>NaN</td>\n",
       "      <td>NaN</td>\n",
       "      <td>2019-05-28T20:55:00Z</td>\n",
       "      <td>Windows</td>\n",
       "      <td>desktop</td>\n",
       "      <td>5.0</td>\n",
       "      <td>NaN</td>\n",
       "    </tr>\n",
       "    <tr>\n",
       "      <th>49996</th>\n",
       "      <td>843049601</td>\n",
       "      <td>2824375</td>\n",
       "      <td>1906224</td>\n",
       "      <td>4155091</td>\n",
       "      <td>True</td>\n",
       "      <td>2019-05-28T12:48:06.587Z</td>\n",
       "      <td>2019-05-28T21:00:00Z</td>\n",
       "      <td>failed</td>\n",
       "      <td>student</td>\n",
       "      <td>absent</td>\n",
       "      <td>NaN</td>\n",
       "      <td>1644.0</td>\n",
       "      <td>NaN</td>\n",
       "      <td>NaN</td>\n",
       "      <td>NaN</td>\n",
       "      <td>2019-05-28T20:57:43.781Z</td>\n",
       "      <td>Windows</td>\n",
       "      <td>desktop</td>\n",
       "      <td>5.0</td>\n",
       "      <td>NaN</td>\n",
       "    </tr>\n",
       "    <tr>\n",
       "      <th>49997</th>\n",
       "      <td>846441459</td>\n",
       "      <td>2831025</td>\n",
       "      <td>1912004</td>\n",
       "      <td>4155091</td>\n",
       "      <td>False</td>\n",
       "      <td>2019-05-28T18:05:28.69Z</td>\n",
       "      <td>2019-05-28T21:30:00Z</td>\n",
       "      <td>cancelled</td>\n",
       "      <td>student</td>\n",
       "      <td>NaN</td>\n",
       "      <td>NaN</td>\n",
       "      <td>NaN</td>\n",
       "      <td>NaN</td>\n",
       "      <td>NaN</td>\n",
       "      <td>NaN</td>\n",
       "      <td>NaN</td>\n",
       "      <td>NaN</td>\n",
       "      <td>NaN</td>\n",
       "      <td>5.0</td>\n",
       "      <td>NaN</td>\n",
       "    </tr>\n",
       "  </tbody>\n",
       "</table>\n",
       "<p>49998 rows × 20 columns</p>\n",
       "</div>"
      ],
      "text/plain": [
       "        class_id  parent_id  student_id  teacher_id  \\\n",
       "0      319852918    2185298     1377988     1939364   \n",
       "1      319854218    2185298     1377988     1939364   \n",
       "2      319854219    2185298     1378008     1939364   \n",
       "3      319855519    2185298     1378008     1939364   \n",
       "4      658867141    2251219     1430269     4144556   \n",
       "...          ...        ...         ...         ...   \n",
       "49993  846843462    2831385     1912304     2723899   \n",
       "49994  761681545    2793944     1880673     3713213   \n",
       "49995  754712303    2824585     1906424     3281970   \n",
       "49996  843049601    2824375     1906224     4155091   \n",
       "49997  846441459    2831025     1912004     4155091   \n",
       "\n",
       "       teacher_is_native_english_speaker        class_booking_time  \\\n",
       "0                                  False  2019-04-09T16:08:07.968Z   \n",
       "1                                  False  2019-04-14T12:29:14.978Z   \n",
       "2                                  False  2019-04-09T16:08:14.565Z   \n",
       "3                                  False   2019-04-14T12:29:21.98Z   \n",
       "4                                   True  2019-04-13T00:31:46.396Z   \n",
       "...                                  ...                       ...   \n",
       "49993                              False  2019-05-28T18:32:10.983Z   \n",
       "49994                              False  2019-05-27T19:23:04.208Z   \n",
       "49995                              False  2019-05-28T12:57:00.119Z   \n",
       "49996                               True  2019-05-28T12:48:06.587Z   \n",
       "49997                              False   2019-05-28T18:05:28.69Z   \n",
       "\n",
       "           class_start_time class_status source_of_fail reason_of_fail  \\\n",
       "0      2019-04-17T00:00:00Z    cancelled        student            NaN   \n",
       "1      2019-04-17T00:30:00Z       failed        student         absent   \n",
       "2      2019-04-17T00:30:00Z    cancelled        student            NaN   \n",
       "3      2019-04-17T01:00:00Z       failed        student         absent   \n",
       "4      2019-04-17T01:00:00Z       failed        student         absent   \n",
       "...                     ...          ...            ...            ...   \n",
       "49993  2019-05-28T20:00:00Z       failed        student         absent   \n",
       "49994  2019-05-28T20:00:00Z       failed        student         absent   \n",
       "49995  2019-05-28T21:00:00Z       failed        student         absent   \n",
       "49996  2019-05-28T21:00:00Z       failed        student         absent   \n",
       "49997  2019-05-28T21:30:00Z    cancelled        student            NaN   \n",
       "\n",
       "      tech_problem_type  class_topic_id student_needs_level_correction  \\\n",
       "0                   NaN             NaN                            NaN   \n",
       "1                   NaN           889.0                            NaN   \n",
       "2                   NaN             NaN                            NaN   \n",
       "3                   NaN           905.0                            NaN   \n",
       "4                   NaN          1310.0                            NaN   \n",
       "...                 ...             ...                            ...   \n",
       "49993               NaN          1310.0                            NaN   \n",
       "49994               NaN          1644.0                            NaN   \n",
       "49995               NaN          1644.0                            NaN   \n",
       "49996               NaN          1644.0                            NaN   \n",
       "49997               NaN             NaN                            NaN   \n",
       "\n",
       "      student_needs_class_redone student_first_connected  \\\n",
       "0                            NaN                     NaN   \n",
       "1                            NaN                     NaN   \n",
       "2                            NaN                     NaN   \n",
       "3                            NaN                     NaN   \n",
       "4                            NaN                     NaN   \n",
       "...                          ...                     ...   \n",
       "49993                        NaN                     NaN   \n",
       "49994                        NaN                     NaN   \n",
       "49995                        NaN                     NaN   \n",
       "49996                        NaN                     NaN   \n",
       "49997                        NaN                     NaN   \n",
       "\n",
       "        teacher_first_connected student_device_os_name student_device_type  \\\n",
       "0                           NaN                Android              tablet   \n",
       "1      2019-04-17T00:26:56.177Z                    NaN                 NaN   \n",
       "2                           NaN                    NaN                 NaN   \n",
       "3          2019-04-17T00:55:10Z                    NaN                 NaN   \n",
       "4      2019-04-17T00:56:38.652Z                    NaN                 NaN   \n",
       "...                         ...                    ...                 ...   \n",
       "49993  2019-05-28T19:59:14.004Z                Windows             desktop   \n",
       "49994  2019-05-28T19:55:43.303Z                    NaN                 NaN   \n",
       "49995      2019-05-28T20:55:00Z                Windows             desktop   \n",
       "49996  2019-05-28T20:57:43.781Z                Windows             desktop   \n",
       "49997                       NaN                    NaN                 NaN   \n",
       "\n",
       "       student_age        first_payment_time  \n",
       "0              3.0  2019-04-26T20:12:41.036Z  \n",
       "1              3.0  2019-04-26T20:12:41.036Z  \n",
       "2              4.0  2019-04-26T20:12:41.036Z  \n",
       "3              4.0  2019-04-26T20:12:41.036Z  \n",
       "4              NaN                       NaN  \n",
       "...            ...                       ...  \n",
       "49993          NaN                       NaN  \n",
       "49994          4.0                       NaN  \n",
       "49995          5.0                       NaN  \n",
       "49996          5.0                       NaN  \n",
       "49997          5.0                       NaN  \n",
       "\n",
       "[49998 rows x 20 columns]"
      ]
     },
     "execution_count": 2,
     "metadata": {},
     "output_type": "execute_result"
    }
   ],
   "source": [
    "data = pd.read_csv('data.csv')\n",
    "data"
   ]
  },
  {
   "cell_type": "code",
   "execution_count": 3,
   "id": "3b337632-7f7e-48db-a2b4-eb7509d3c0a9",
   "metadata": {},
   "outputs": [
    {
     "data": {
      "text/plain": [
       "(49998, 20)"
      ]
     },
     "execution_count": 3,
     "metadata": {},
     "output_type": "execute_result"
    }
   ],
   "source": [
    "data.shape"
   ]
  },
  {
   "cell_type": "code",
   "execution_count": 4,
   "id": "fbcecb18-3c11-4e37-8c5a-d95216f90003",
   "metadata": {},
   "outputs": [
    {
     "data": {
      "text/plain": [
       "39404"
      ]
     },
     "execution_count": 4,
     "metadata": {},
     "output_type": "execute_result"
    }
   ],
   "source": [
    "data['student_id'].nunique()"
   ]
  },
  {
   "cell_type": "markdown",
   "id": "cd5fbdc4-e4e7-4e05-b567-395d722bae76",
   "metadata": {},
   "source": [
    "Almost 50k observations with 20 features.  \n",
    "Of them almost 40k unique students."
   ]
  },
  {
   "cell_type": "code",
   "execution_count": 5,
   "id": "caa253f8-93ae-445f-9725-2dfa1b94ad67",
   "metadata": {},
   "outputs": [
    {
     "name": "stdout",
     "output_type": "stream",
     "text": [
      "NaN: 0\n"
     ]
    },
    {
     "data": {
      "text/plain": [
       "failed       21818\n",
       "cancelled    13466\n",
       "completed    13315\n",
       "deleted       1399\n",
       "Name: class_status, dtype: int64"
      ]
     },
     "execution_count": 5,
     "metadata": {},
     "output_type": "execute_result"
    }
   ],
   "source": [
    "variable = 'class_status'\n",
    "print('NaN:', data[variable].isna().sum())\n",
    "data[variable].value_counts()"
   ]
  },
  {
   "cell_type": "code",
   "execution_count": 6,
   "id": "13ac601b-d909-4a76-b6f7-ab3c122a84c2",
   "metadata": {},
   "outputs": [
    {
     "data": {
      "text/html": [
       "<div>\n",
       "<style scoped>\n",
       "    .dataframe tbody tr th:only-of-type {\n",
       "        vertical-align: middle;\n",
       "    }\n",
       "\n",
       "    .dataframe tbody tr th {\n",
       "        vertical-align: top;\n",
       "    }\n",
       "\n",
       "    .dataframe thead th {\n",
       "        text-align: right;\n",
       "    }\n",
       "</style>\n",
       "<table border=\"1\" class=\"dataframe\">\n",
       "  <thead>\n",
       "    <tr style=\"text-align: right;\">\n",
       "      <th></th>\n",
       "      <th>class_id</th>\n",
       "      <th>parent_id</th>\n",
       "      <th>student_id</th>\n",
       "      <th>teacher_id</th>\n",
       "      <th>teacher_is_native_english_speaker</th>\n",
       "      <th>class_booking_time</th>\n",
       "      <th>class_start_time</th>\n",
       "      <th>class_status</th>\n",
       "      <th>source_of_fail</th>\n",
       "      <th>reason_of_fail</th>\n",
       "      <th>tech_problem_type</th>\n",
       "      <th>class_topic_id</th>\n",
       "      <th>student_needs_level_correction</th>\n",
       "      <th>student_needs_class_redone</th>\n",
       "      <th>student_first_connected</th>\n",
       "      <th>teacher_first_connected</th>\n",
       "      <th>student_device_os_name</th>\n",
       "      <th>student_device_type</th>\n",
       "      <th>student_age</th>\n",
       "      <th>first_payment_time</th>\n",
       "    </tr>\n",
       "  </thead>\n",
       "  <tbody>\n",
       "    <tr>\n",
       "      <th>8</th>\n",
       "      <td>684691574</td>\n",
       "      <td>2280089</td>\n",
       "      <td>1453559</td>\n",
       "      <td>38485</td>\n",
       "      <td>True</td>\n",
       "      <td>2019-04-15T09:55:32.688Z</td>\n",
       "      <td>2019-04-17T04:00:00Z</td>\n",
       "      <td>completed</td>\n",
       "      <td>NaN</td>\n",
       "      <td>NaN</td>\n",
       "      <td>NaN</td>\n",
       "      <td>905.0</td>\n",
       "      <td>False</td>\n",
       "      <td>False</td>\n",
       "      <td>2019-04-17T03:55:10Z</td>\n",
       "      <td>2019-04-17T03:59:25.699Z</td>\n",
       "      <td>Windows</td>\n",
       "      <td>desktop</td>\n",
       "      <td>3.0</td>\n",
       "      <td>NaN</td>\n",
       "    </tr>\n",
       "    <tr>\n",
       "      <th>9</th>\n",
       "      <td>311249625</td>\n",
       "      <td>2223379</td>\n",
       "      <td>1408689</td>\n",
       "      <td>1264283</td>\n",
       "      <td>False</td>\n",
       "      <td>2019-04-13T02:16:20.382Z</td>\n",
       "      <td>2019-04-17T04:00:00Z</td>\n",
       "      <td>completed</td>\n",
       "      <td>NaN</td>\n",
       "      <td>NaN</td>\n",
       "      <td>NaN</td>\n",
       "      <td>1310.0</td>\n",
       "      <td>True</td>\n",
       "      <td>False</td>\n",
       "      <td>2019-04-17T04:03:44.68Z</td>\n",
       "      <td>2019-04-17T03:59:43.256Z</td>\n",
       "      <td>Windows</td>\n",
       "      <td>desktop</td>\n",
       "      <td>NaN</td>\n",
       "      <td>2019-04-17T10:17:16.106Z</td>\n",
       "    </tr>\n",
       "    <tr>\n",
       "      <th>10</th>\n",
       "      <td>525909471</td>\n",
       "      <td>2263259</td>\n",
       "      <td>1443279</td>\n",
       "      <td>3096738</td>\n",
       "      <td>False</td>\n",
       "      <td>2019-04-14T12:40:04.147Z</td>\n",
       "      <td>2019-04-17T04:00:00Z</td>\n",
       "      <td>completed</td>\n",
       "      <td>NaN</td>\n",
       "      <td>NaN</td>\n",
       "      <td>NaN</td>\n",
       "      <td>1644.0</td>\n",
       "      <td>True</td>\n",
       "      <td>False</td>\n",
       "      <td>2019-04-17T03:55:47.158Z</td>\n",
       "      <td>2019-04-17T03:55:10Z</td>\n",
       "      <td>Windows</td>\n",
       "      <td>desktop</td>\n",
       "      <td>3.0</td>\n",
       "      <td>NaN</td>\n",
       "    </tr>\n",
       "    <tr>\n",
       "      <th>13</th>\n",
       "      <td>631588161</td>\n",
       "      <td>2144678</td>\n",
       "      <td>1342238</td>\n",
       "      <td>244051</td>\n",
       "      <td>False</td>\n",
       "      <td>2019-04-10T23:29:54.479Z</td>\n",
       "      <td>2019-04-17T05:00:00Z</td>\n",
       "      <td>completed</td>\n",
       "      <td>NaN</td>\n",
       "      <td>NaN</td>\n",
       "      <td>NaN</td>\n",
       "      <td>1513.0</td>\n",
       "      <td>False</td>\n",
       "      <td>False</td>\n",
       "      <td>2019-04-17T04:55:41.34Z</td>\n",
       "      <td>2019-04-17T04:59:22.24Z</td>\n",
       "      <td>Android</td>\n",
       "      <td>tablet</td>\n",
       "      <td>NaN</td>\n",
       "      <td>NaN</td>\n",
       "    </tr>\n",
       "    <tr>\n",
       "      <th>20</th>\n",
       "      <td>355699840</td>\n",
       "      <td>2275929</td>\n",
       "      <td>1450159</td>\n",
       "      <td>3175031</td>\n",
       "      <td>False</td>\n",
       "      <td>2019-04-15T01:52:40.977Z</td>\n",
       "      <td>2019-04-17T06:00:00Z</td>\n",
       "      <td>completed</td>\n",
       "      <td>NaN</td>\n",
       "      <td>NaN</td>\n",
       "      <td>NaN</td>\n",
       "      <td>905.0</td>\n",
       "      <td>False</td>\n",
       "      <td>True</td>\n",
       "      <td>2019-04-17T06:00:31.238Z</td>\n",
       "      <td>2019-04-17T05:59:07.249Z</td>\n",
       "      <td>macOS</td>\n",
       "      <td>desktop</td>\n",
       "      <td>5.0</td>\n",
       "      <td>NaN</td>\n",
       "    </tr>\n",
       "    <tr>\n",
       "      <th>...</th>\n",
       "      <td>...</td>\n",
       "      <td>...</td>\n",
       "      <td>...</td>\n",
       "      <td>...</td>\n",
       "      <td>...</td>\n",
       "      <td>...</td>\n",
       "      <td>...</td>\n",
       "      <td>...</td>\n",
       "      <td>...</td>\n",
       "      <td>...</td>\n",
       "      <td>...</td>\n",
       "      <td>...</td>\n",
       "      <td>...</td>\n",
       "      <td>...</td>\n",
       "      <td>...</td>\n",
       "      <td>...</td>\n",
       "      <td>...</td>\n",
       "      <td>...</td>\n",
       "      <td>...</td>\n",
       "      <td>...</td>\n",
       "    </tr>\n",
       "    <tr>\n",
       "      <th>49969</th>\n",
       "      <td>809174737</td>\n",
       "      <td>2828565</td>\n",
       "      <td>1909874</td>\n",
       "      <td>342718</td>\n",
       "      <td>False</td>\n",
       "      <td>2019-05-28T16:16:55.42Z</td>\n",
       "      <td>2019-05-28T19:00:00Z</td>\n",
       "      <td>completed</td>\n",
       "      <td>NaN</td>\n",
       "      <td>NaN</td>\n",
       "      <td>NaN</td>\n",
       "      <td>1643.0</td>\n",
       "      <td>True</td>\n",
       "      <td>False</td>\n",
       "      <td>2019-05-28T18:58:39.423Z</td>\n",
       "      <td>2019-05-28T18:58:18.919Z</td>\n",
       "      <td>iOS</td>\n",
       "      <td>mobile</td>\n",
       "      <td>3.0</td>\n",
       "      <td>2019-06-07T14:29:57.632Z</td>\n",
       "    </tr>\n",
       "    <tr>\n",
       "      <th>49981</th>\n",
       "      <td>842726598</td>\n",
       "      <td>2813105</td>\n",
       "      <td>1895963</td>\n",
       "      <td>342718</td>\n",
       "      <td>False</td>\n",
       "      <td>2019-05-27T20:37:49.529Z</td>\n",
       "      <td>2019-05-28T19:30:00Z</td>\n",
       "      <td>completed</td>\n",
       "      <td>NaN</td>\n",
       "      <td>NaN</td>\n",
       "      <td>NaN</td>\n",
       "      <td>905.0</td>\n",
       "      <td>False</td>\n",
       "      <td>False</td>\n",
       "      <td>2019-05-28T19:33:58.067Z</td>\n",
       "      <td>2019-05-28T19:27:16.04Z</td>\n",
       "      <td>Windows</td>\n",
       "      <td>desktop</td>\n",
       "      <td>5.0</td>\n",
       "      <td>NaN</td>\n",
       "    </tr>\n",
       "    <tr>\n",
       "      <th>49983</th>\n",
       "      <td>756085184</td>\n",
       "      <td>2747154</td>\n",
       "      <td>1874503</td>\n",
       "      <td>1874304</td>\n",
       "      <td>True</td>\n",
       "      <td>2019-05-28T17:37:53.209Z</td>\n",
       "      <td>2019-05-28T19:30:00Z</td>\n",
       "      <td>completed</td>\n",
       "      <td>NaN</td>\n",
       "      <td>NaN</td>\n",
       "      <td>NaN</td>\n",
       "      <td>1310.0</td>\n",
       "      <td>False</td>\n",
       "      <td>False</td>\n",
       "      <td>2019-05-28T19:29:22.315Z</td>\n",
       "      <td>2019-05-28T19:27:28.424Z</td>\n",
       "      <td>Windows</td>\n",
       "      <td>desktop</td>\n",
       "      <td>NaN</td>\n",
       "      <td>NaN</td>\n",
       "    </tr>\n",
       "    <tr>\n",
       "      <th>49986</th>\n",
       "      <td>845590360</td>\n",
       "      <td>2627663</td>\n",
       "      <td>1772102</td>\n",
       "      <td>2266394</td>\n",
       "      <td>False</td>\n",
       "      <td>2019-05-28T14:27:17.226Z</td>\n",
       "      <td>2019-05-28T19:30:00Z</td>\n",
       "      <td>completed</td>\n",
       "      <td>NaN</td>\n",
       "      <td>NaN</td>\n",
       "      <td>NaN</td>\n",
       "      <td>1418.0</td>\n",
       "      <td>False</td>\n",
       "      <td>False</td>\n",
       "      <td>2019-05-28T19:30:52.594Z</td>\n",
       "      <td>2019-05-28T19:25:00Z</td>\n",
       "      <td>Windows</td>\n",
       "      <td>desktop</td>\n",
       "      <td>3.0</td>\n",
       "      <td>NaN</td>\n",
       "    </tr>\n",
       "    <tr>\n",
       "      <th>49990</th>\n",
       "      <td>845733730</td>\n",
       "      <td>2827655</td>\n",
       "      <td>1909144</td>\n",
       "      <td>2097001</td>\n",
       "      <td>False</td>\n",
       "      <td>2019-05-28T15:36:56.62Z</td>\n",
       "      <td>2019-05-28T20:00:00Z</td>\n",
       "      <td>completed</td>\n",
       "      <td>NaN</td>\n",
       "      <td>NaN</td>\n",
       "      <td>NaN</td>\n",
       "      <td>889.0</td>\n",
       "      <td>False</td>\n",
       "      <td>False</td>\n",
       "      <td>2019-05-28T19:59:22.999Z</td>\n",
       "      <td>2019-05-28T19:57:54.178Z</td>\n",
       "      <td>macOS</td>\n",
       "      <td>desktop</td>\n",
       "      <td>3.0</td>\n",
       "      <td>2019-06-07T17:18:36.946Z</td>\n",
       "    </tr>\n",
       "  </tbody>\n",
       "</table>\n",
       "<p>13315 rows × 20 columns</p>\n",
       "</div>"
      ],
      "text/plain": [
       "        class_id  parent_id  student_id  teacher_id  \\\n",
       "8      684691574    2280089     1453559       38485   \n",
       "9      311249625    2223379     1408689     1264283   \n",
       "10     525909471    2263259     1443279     3096738   \n",
       "13     631588161    2144678     1342238      244051   \n",
       "20     355699840    2275929     1450159     3175031   \n",
       "...          ...        ...         ...         ...   \n",
       "49969  809174737    2828565     1909874      342718   \n",
       "49981  842726598    2813105     1895963      342718   \n",
       "49983  756085184    2747154     1874503     1874304   \n",
       "49986  845590360    2627663     1772102     2266394   \n",
       "49990  845733730    2827655     1909144     2097001   \n",
       "\n",
       "       teacher_is_native_english_speaker        class_booking_time  \\\n",
       "8                                   True  2019-04-15T09:55:32.688Z   \n",
       "9                                  False  2019-04-13T02:16:20.382Z   \n",
       "10                                 False  2019-04-14T12:40:04.147Z   \n",
       "13                                 False  2019-04-10T23:29:54.479Z   \n",
       "20                                 False  2019-04-15T01:52:40.977Z   \n",
       "...                                  ...                       ...   \n",
       "49969                              False   2019-05-28T16:16:55.42Z   \n",
       "49981                              False  2019-05-27T20:37:49.529Z   \n",
       "49983                               True  2019-05-28T17:37:53.209Z   \n",
       "49986                              False  2019-05-28T14:27:17.226Z   \n",
       "49990                              False   2019-05-28T15:36:56.62Z   \n",
       "\n",
       "           class_start_time class_status source_of_fail reason_of_fail  \\\n",
       "8      2019-04-17T04:00:00Z    completed            NaN            NaN   \n",
       "9      2019-04-17T04:00:00Z    completed            NaN            NaN   \n",
       "10     2019-04-17T04:00:00Z    completed            NaN            NaN   \n",
       "13     2019-04-17T05:00:00Z    completed            NaN            NaN   \n",
       "20     2019-04-17T06:00:00Z    completed            NaN            NaN   \n",
       "...                     ...          ...            ...            ...   \n",
       "49969  2019-05-28T19:00:00Z    completed            NaN            NaN   \n",
       "49981  2019-05-28T19:30:00Z    completed            NaN            NaN   \n",
       "49983  2019-05-28T19:30:00Z    completed            NaN            NaN   \n",
       "49986  2019-05-28T19:30:00Z    completed            NaN            NaN   \n",
       "49990  2019-05-28T20:00:00Z    completed            NaN            NaN   \n",
       "\n",
       "      tech_problem_type  class_topic_id student_needs_level_correction  \\\n",
       "8                   NaN           905.0                          False   \n",
       "9                   NaN          1310.0                           True   \n",
       "10                  NaN          1644.0                           True   \n",
       "13                  NaN          1513.0                          False   \n",
       "20                  NaN           905.0                          False   \n",
       "...                 ...             ...                            ...   \n",
       "49969               NaN          1643.0                           True   \n",
       "49981               NaN           905.0                          False   \n",
       "49983               NaN          1310.0                          False   \n",
       "49986               NaN          1418.0                          False   \n",
       "49990               NaN           889.0                          False   \n",
       "\n",
       "      student_needs_class_redone   student_first_connected  \\\n",
       "8                          False      2019-04-17T03:55:10Z   \n",
       "9                          False   2019-04-17T04:03:44.68Z   \n",
       "10                         False  2019-04-17T03:55:47.158Z   \n",
       "13                         False   2019-04-17T04:55:41.34Z   \n",
       "20                          True  2019-04-17T06:00:31.238Z   \n",
       "...                          ...                       ...   \n",
       "49969                      False  2019-05-28T18:58:39.423Z   \n",
       "49981                      False  2019-05-28T19:33:58.067Z   \n",
       "49983                      False  2019-05-28T19:29:22.315Z   \n",
       "49986                      False  2019-05-28T19:30:52.594Z   \n",
       "49990                      False  2019-05-28T19:59:22.999Z   \n",
       "\n",
       "        teacher_first_connected student_device_os_name student_device_type  \\\n",
       "8      2019-04-17T03:59:25.699Z                Windows             desktop   \n",
       "9      2019-04-17T03:59:43.256Z                Windows             desktop   \n",
       "10         2019-04-17T03:55:10Z                Windows             desktop   \n",
       "13      2019-04-17T04:59:22.24Z                Android              tablet   \n",
       "20     2019-04-17T05:59:07.249Z                  macOS             desktop   \n",
       "...                         ...                    ...                 ...   \n",
       "49969  2019-05-28T18:58:18.919Z                    iOS              mobile   \n",
       "49981   2019-05-28T19:27:16.04Z                Windows             desktop   \n",
       "49983  2019-05-28T19:27:28.424Z                Windows             desktop   \n",
       "49986      2019-05-28T19:25:00Z                Windows             desktop   \n",
       "49990  2019-05-28T19:57:54.178Z                  macOS             desktop   \n",
       "\n",
       "       student_age        first_payment_time  \n",
       "8              3.0                       NaN  \n",
       "9              NaN  2019-04-17T10:17:16.106Z  \n",
       "10             3.0                       NaN  \n",
       "13             NaN                       NaN  \n",
       "20             5.0                       NaN  \n",
       "...            ...                       ...  \n",
       "49969          3.0  2019-06-07T14:29:57.632Z  \n",
       "49981          5.0                       NaN  \n",
       "49983          NaN                       NaN  \n",
       "49986          3.0                       NaN  \n",
       "49990          3.0  2019-06-07T17:18:36.946Z  \n",
       "\n",
       "[13315 rows x 20 columns]"
      ]
     },
     "execution_count": 6,
     "metadata": {},
     "output_type": "execute_result"
    }
   ],
   "source": [
    "data[data['class_status'] == 'completed']"
   ]
  },
  {
   "cell_type": "markdown",
   "id": "6628c160-620c-403a-8f5e-234c607c5993",
   "metadata": {},
   "source": [
    "# Features"
   ]
  },
  {
   "cell_type": "markdown",
   "id": "1e9baa4e-8035-4645-a8b0-6a0c2b81903e",
   "metadata": {},
   "source": [
    "Technical features:  \n",
    "\n",
    "* class_id\n",
    "* parent_id\n",
    "* student_id\n",
    "* teacher_id\n",
    "\n",
    "Time related features:\n",
    "\n",
    "* class_booking_time\n",
    "* class_start_time\n",
    "* student_first_connected\n",
    "* teacher_first_connected\n",
    "\n",
    "Potentially important features: \n",
    "\n",
    "* teacher_is_native_english_speaker: True/False variable\n",
    "* class_status: failed/cancelled/completed/deleted\n",
    "* source_of_fail: student/teacher/service/NaN\n",
    "* reason_of_fail: absent/technical_problems/other/emergency/illness/technical_issues/short_time_leave/permanent_leave/NaN\n",
    "* tech_problem_type: connection/video/audio/NaN\n",
    "* class_topic_id: several topics with above 1000 counts and several with less\n",
    "* student_needs_level_correction: True/False/NaN\n",
    "* student_needs_class_redone: True/False/NaN\n",
    "* student_device_os_name: Windows/Android/MacOS/iOS/Chrome OS/Linux/NaN\n",
    "* student_device_type: desktop/mobile/tablet/NaN\n",
    "* student_age: contains NaNs\n",
    "\n",
    "Target variable:\n",
    "\n",
    "* first_payment_time - either date or NaN"
   ]
  },
  {
   "cell_type": "markdown",
   "id": "896798a4-9c46-4b1a-b7db-baa35eb064e5",
   "metadata": {},
   "source": [
    "# Analysis"
   ]
  },
  {
   "cell_type": "markdown",
   "id": "f7be9ab1-700f-4041-aeac-e71b560caa15",
   "metadata": {},
   "source": [
    "## Prepare data"
   ]
  },
  {
   "cell_type": "markdown",
   "id": "82cf81e2-f3ca-44e8-a6c2-e7736b9bc292",
   "metadata": {},
   "source": [
    "Let's prepare our dataset for analysis"
   ]
  },
  {
   "cell_type": "markdown",
   "id": "e9655f25-fa4e-4ac8-9530-13c58f6cdad3",
   "metadata": {},
   "source": [
    "First of all, since we need to find factors that cause conversion from trial classes into purchase we will be considering only **completed** classes.  \n",
    "\n",
    "*Note: there are cases when parents purchased a paid class without completing a trial but these fall under different conversion stage specification and therefore should be analyzed separately.*"
   ]
  },
  {
   "cell_type": "code",
   "execution_count": 7,
   "id": "112b20b8-754c-4295-b85b-99d1f343b9be",
   "metadata": {},
   "outputs": [],
   "source": [
    "df = data[data['class_status'] == 'completed'].copy()"
   ]
  },
  {
   "cell_type": "markdown",
   "id": "1cf9c8ed-f87f-4b65-9d52-10f8f4e3c357",
   "metadata": {},
   "source": [
    "For tech_problem_type we instead will use 0 when it's NaN (we don't have a technical problem) or 1 otherwise (we did have technical issues)"
   ]
  },
  {
   "cell_type": "code",
   "execution_count": 8,
   "id": "a5649981-282a-4ce2-8d04-ce23c68b2c7c",
   "metadata": {},
   "outputs": [],
   "source": [
    "df['tech_problem_type'] = df['tech_problem_type'].apply(lambda x: 0 if x != x else 1)"
   ]
  },
  {
   "cell_type": "markdown",
   "id": "f173fc2c-4404-4de9-9b9d-b56c89c7355d",
   "metadata": {},
   "source": [
    "Our target variable is first_payment_time. We will use 0 if it is NaN and 1 otherwise."
   ]
  },
  {
   "cell_type": "code",
   "execution_count": 9,
   "id": "a0b7404d-8a4a-4ee9-98f4-f0c988e70965",
   "metadata": {},
   "outputs": [],
   "source": [
    "df['first_payment_time'] = df['first_payment_time'].apply(lambda x: 0 if x != x else 1)"
   ]
  },
  {
   "cell_type": "markdown",
   "id": "d2092317-6166-4337-b0b1-5b3f2673f11e",
   "metadata": {},
   "source": [
    "## Group data"
   ]
  },
  {
   "cell_type": "markdown",
   "id": "f53de1ad-8dd1-44b4-a140-6f5b68d28540",
   "metadata": {},
   "source": [
    "Number of unique students"
   ]
  },
  {
   "cell_type": "code",
   "execution_count": 10,
   "id": "fcff32e7-a47f-41ab-b5d5-502edddd3e7c",
   "metadata": {},
   "outputs": [
    {
     "data": {
      "text/plain": [
       "13233"
      ]
     },
     "execution_count": 10,
     "metadata": {},
     "output_type": "execute_result"
    }
   ],
   "source": [
    "df['student_id'].nunique()"
   ]
  },
  {
   "cell_type": "markdown",
   "id": "4448014e-ab55-4673-8931-21bd33d65b39",
   "metadata": {},
   "source": [
    "Number of unique parents"
   ]
  },
  {
   "cell_type": "code",
   "execution_count": 11,
   "id": "e7b5c7c2-9f79-4379-8745-c284101d2b05",
   "metadata": {},
   "outputs": [
    {
     "data": {
      "text/plain": [
       "12750"
      ]
     },
     "execution_count": 11,
     "metadata": {},
     "output_type": "execute_result"
    }
   ],
   "source": [
    "df['parent_id'].nunique()"
   ]
  },
  {
   "cell_type": "markdown",
   "id": "3bf56d77-373d-4314-a4b5-1710b5aa4080",
   "metadata": {},
   "source": [
    "We will group the data by parents to guarantee independence of observations. If we grouped our data by students instead, for example, we could get a case where one parent buys classes for two kids and so these two students are not independent. This will be important for validity of A/B tests later."
   ]
  },
  {
   "cell_type": "code",
   "execution_count": 12,
   "id": "f317783a-60ab-4459-88e7-eead8c10db21",
   "metadata": {},
   "outputs": [
    {
     "data": {
      "text/html": [
       "<div>\n",
       "<style scoped>\n",
       "    .dataframe tbody tr th:only-of-type {\n",
       "        vertical-align: middle;\n",
       "    }\n",
       "\n",
       "    .dataframe tbody tr th {\n",
       "        vertical-align: top;\n",
       "    }\n",
       "\n",
       "    .dataframe thead th {\n",
       "        text-align: right;\n",
       "    }\n",
       "</style>\n",
       "<table border=\"1\" class=\"dataframe\">\n",
       "  <thead>\n",
       "    <tr style=\"text-align: right;\">\n",
       "      <th></th>\n",
       "      <th>teacher_is_native_english_speaker</th>\n",
       "      <th>class_topic_id</th>\n",
       "      <th>student_needs_level_correction</th>\n",
       "      <th>student_needs_class_redone</th>\n",
       "      <th>student_device_type</th>\n",
       "    </tr>\n",
       "    <tr>\n",
       "      <th>parent_id</th>\n",
       "      <th></th>\n",
       "      <th></th>\n",
       "      <th></th>\n",
       "      <th></th>\n",
       "      <th></th>\n",
       "    </tr>\n",
       "  </thead>\n",
       "  <tbody>\n",
       "    <tr>\n",
       "      <th>1804195</th>\n",
       "      <td>False</td>\n",
       "      <td>1513.0</td>\n",
       "      <td>False</td>\n",
       "      <td>False</td>\n",
       "      <td>desktop</td>\n",
       "    </tr>\n",
       "    <tr>\n",
       "      <th>1810505</th>\n",
       "      <td>False</td>\n",
       "      <td>1418.0</td>\n",
       "      <td>True</td>\n",
       "      <td>False</td>\n",
       "      <td>desktop</td>\n",
       "    </tr>\n",
       "    <tr>\n",
       "      <th>1812805</th>\n",
       "      <td>False</td>\n",
       "      <td>889.0</td>\n",
       "      <td>False</td>\n",
       "      <td>True</td>\n",
       "      <td>desktop</td>\n",
       "    </tr>\n",
       "    <tr>\n",
       "      <th>1812915</th>\n",
       "      <td>False</td>\n",
       "      <td>1310.0</td>\n",
       "      <td>False</td>\n",
       "      <td>True</td>\n",
       "      <td>desktop</td>\n",
       "    </tr>\n",
       "    <tr>\n",
       "      <th>1813695</th>\n",
       "      <td>False</td>\n",
       "      <td>1418.0</td>\n",
       "      <td>False</td>\n",
       "      <td>False</td>\n",
       "      <td>desktop</td>\n",
       "    </tr>\n",
       "    <tr>\n",
       "      <th>...</th>\n",
       "      <td>...</td>\n",
       "      <td>...</td>\n",
       "      <td>...</td>\n",
       "      <td>...</td>\n",
       "      <td>...</td>\n",
       "    </tr>\n",
       "    <tr>\n",
       "      <th>2828855</th>\n",
       "      <td>True</td>\n",
       "      <td>1644.0</td>\n",
       "      <td>True</td>\n",
       "      <td>False</td>\n",
       "      <td>NaN</td>\n",
       "    </tr>\n",
       "    <tr>\n",
       "      <th>2842535</th>\n",
       "      <td>False</td>\n",
       "      <td>1644.0</td>\n",
       "      <td>False</td>\n",
       "      <td>False</td>\n",
       "      <td>NaN</td>\n",
       "    </tr>\n",
       "    <tr>\n",
       "      <th>2842785</th>\n",
       "      <td>False</td>\n",
       "      <td>1644.0</td>\n",
       "      <td>True</td>\n",
       "      <td>False</td>\n",
       "      <td>NaN</td>\n",
       "    </tr>\n",
       "    <tr>\n",
       "      <th>2842905</th>\n",
       "      <td>False</td>\n",
       "      <td>1644.0</td>\n",
       "      <td>False</td>\n",
       "      <td>False</td>\n",
       "      <td>NaN</td>\n",
       "    </tr>\n",
       "    <tr>\n",
       "      <th>2843365</th>\n",
       "      <td>False</td>\n",
       "      <td>905.0</td>\n",
       "      <td>False</td>\n",
       "      <td>False</td>\n",
       "      <td>NaN</td>\n",
       "    </tr>\n",
       "  </tbody>\n",
       "</table>\n",
       "<p>12750 rows × 5 columns</p>\n",
       "</div>"
      ],
      "text/plain": [
       "           teacher_is_native_english_speaker  class_topic_id  \\\n",
       "parent_id                                                      \n",
       "1804195                                False          1513.0   \n",
       "1810505                                False          1418.0   \n",
       "1812805                                False           889.0   \n",
       "1812915                                False          1310.0   \n",
       "1813695                                False          1418.0   \n",
       "...                                      ...             ...   \n",
       "2828855                                 True          1644.0   \n",
       "2842535                                False          1644.0   \n",
       "2842785                                False          1644.0   \n",
       "2842905                                False          1644.0   \n",
       "2843365                                False           905.0   \n",
       "\n",
       "           student_needs_level_correction  student_needs_class_redone  \\\n",
       "parent_id                                                               \n",
       "1804195                             False                       False   \n",
       "1810505                              True                       False   \n",
       "1812805                             False                        True   \n",
       "1812915                             False                        True   \n",
       "1813695                             False                       False   \n",
       "...                                   ...                         ...   \n",
       "2828855                              True                       False   \n",
       "2842535                             False                       False   \n",
       "2842785                              True                       False   \n",
       "2842905                             False                       False   \n",
       "2843365                             False                       False   \n",
       "\n",
       "          student_device_type  \n",
       "parent_id                      \n",
       "1804195               desktop  \n",
       "1810505               desktop  \n",
       "1812805               desktop  \n",
       "1812915               desktop  \n",
       "1813695               desktop  \n",
       "...                       ...  \n",
       "2828855                   NaN  \n",
       "2842535                   NaN  \n",
       "2842785                   NaN  \n",
       "2842905                   NaN  \n",
       "2843365                   NaN  \n",
       "\n",
       "[12750 rows x 5 columns]"
      ]
     },
     "execution_count": 12,
     "metadata": {},
     "output_type": "execute_result"
    }
   ],
   "source": [
    "parents1 = df.groupby('parent_id')[['teacher_is_native_english_speaker',  'class_topic_id', \n",
    "                                   'student_needs_level_correction', \n",
    "                                   'student_needs_class_redone', \n",
    "                                   'student_device_type']].agg(lambda x: x.mode(dropna=False)[0])\n",
    "parents1"
   ]
  },
  {
   "cell_type": "code",
   "execution_count": 13,
   "id": "c879aaa1-07f6-4a52-8c88-f1d0822aa1f4",
   "metadata": {},
   "outputs": [
    {
     "data": {
      "text/html": [
       "<div>\n",
       "<style scoped>\n",
       "    .dataframe tbody tr th:only-of-type {\n",
       "        vertical-align: middle;\n",
       "    }\n",
       "\n",
       "    .dataframe tbody tr th {\n",
       "        vertical-align: top;\n",
       "    }\n",
       "\n",
       "    .dataframe thead th {\n",
       "        text-align: right;\n",
       "    }\n",
       "</style>\n",
       "<table border=\"1\" class=\"dataframe\">\n",
       "  <thead>\n",
       "    <tr style=\"text-align: right;\">\n",
       "      <th></th>\n",
       "      <th>first_payment_time</th>\n",
       "    </tr>\n",
       "    <tr>\n",
       "      <th>parent_id</th>\n",
       "      <th></th>\n",
       "    </tr>\n",
       "  </thead>\n",
       "  <tbody>\n",
       "    <tr>\n",
       "      <th>1804195</th>\n",
       "      <td>1</td>\n",
       "    </tr>\n",
       "    <tr>\n",
       "      <th>1810505</th>\n",
       "      <td>0</td>\n",
       "    </tr>\n",
       "    <tr>\n",
       "      <th>1812805</th>\n",
       "      <td>1</td>\n",
       "    </tr>\n",
       "    <tr>\n",
       "      <th>1812915</th>\n",
       "      <td>1</td>\n",
       "    </tr>\n",
       "    <tr>\n",
       "      <th>1813695</th>\n",
       "      <td>1</td>\n",
       "    </tr>\n",
       "    <tr>\n",
       "      <th>...</th>\n",
       "      <td>...</td>\n",
       "    </tr>\n",
       "    <tr>\n",
       "      <th>2828855</th>\n",
       "      <td>1</td>\n",
       "    </tr>\n",
       "    <tr>\n",
       "      <th>2842535</th>\n",
       "      <td>1</td>\n",
       "    </tr>\n",
       "    <tr>\n",
       "      <th>2842785</th>\n",
       "      <td>1</td>\n",
       "    </tr>\n",
       "    <tr>\n",
       "      <th>2842905</th>\n",
       "      <td>1</td>\n",
       "    </tr>\n",
       "    <tr>\n",
       "      <th>2843365</th>\n",
       "      <td>1</td>\n",
       "    </tr>\n",
       "  </tbody>\n",
       "</table>\n",
       "<p>12750 rows × 1 columns</p>\n",
       "</div>"
      ],
      "text/plain": [
       "           first_payment_time\n",
       "parent_id                    \n",
       "1804195                     1\n",
       "1810505                     0\n",
       "1812805                     1\n",
       "1812915                     1\n",
       "1813695                     1\n",
       "...                       ...\n",
       "2828855                     1\n",
       "2842535                     1\n",
       "2842785                     1\n",
       "2842905                     1\n",
       "2843365                     1\n",
       "\n",
       "[12750 rows x 1 columns]"
      ]
     },
     "execution_count": 13,
     "metadata": {},
     "output_type": "execute_result"
    }
   ],
   "source": [
    "parents2 = df.groupby('parent_id')[['first_payment_time']].max()\n",
    "parents2"
   ]
  },
  {
   "cell_type": "code",
   "execution_count": 14,
   "id": "0287b573-39a2-45ba-8889-03db9fbbf320",
   "metadata": {},
   "outputs": [
    {
     "data": {
      "text/html": [
       "<div>\n",
       "<style scoped>\n",
       "    .dataframe tbody tr th:only-of-type {\n",
       "        vertical-align: middle;\n",
       "    }\n",
       "\n",
       "    .dataframe tbody tr th {\n",
       "        vertical-align: top;\n",
       "    }\n",
       "\n",
       "    .dataframe thead th {\n",
       "        text-align: right;\n",
       "    }\n",
       "</style>\n",
       "<table border=\"1\" class=\"dataframe\">\n",
       "  <thead>\n",
       "    <tr style=\"text-align: right;\">\n",
       "      <th></th>\n",
       "      <th>student_age</th>\n",
       "    </tr>\n",
       "    <tr>\n",
       "      <th>parent_id</th>\n",
       "      <th></th>\n",
       "    </tr>\n",
       "  </thead>\n",
       "  <tbody>\n",
       "    <tr>\n",
       "      <th>1804195</th>\n",
       "      <td>NaN</td>\n",
       "    </tr>\n",
       "    <tr>\n",
       "      <th>1810505</th>\n",
       "      <td>NaN</td>\n",
       "    </tr>\n",
       "    <tr>\n",
       "      <th>1812805</th>\n",
       "      <td>3.0</td>\n",
       "    </tr>\n",
       "    <tr>\n",
       "      <th>1812915</th>\n",
       "      <td>NaN</td>\n",
       "    </tr>\n",
       "    <tr>\n",
       "      <th>1813695</th>\n",
       "      <td>NaN</td>\n",
       "    </tr>\n",
       "    <tr>\n",
       "      <th>...</th>\n",
       "      <td>...</td>\n",
       "    </tr>\n",
       "    <tr>\n",
       "      <th>2828855</th>\n",
       "      <td>5.0</td>\n",
       "    </tr>\n",
       "    <tr>\n",
       "      <th>2842535</th>\n",
       "      <td>5.0</td>\n",
       "    </tr>\n",
       "    <tr>\n",
       "      <th>2842785</th>\n",
       "      <td>5.0</td>\n",
       "    </tr>\n",
       "    <tr>\n",
       "      <th>2842905</th>\n",
       "      <td>5.0</td>\n",
       "    </tr>\n",
       "    <tr>\n",
       "      <th>2843365</th>\n",
       "      <td>5.0</td>\n",
       "    </tr>\n",
       "  </tbody>\n",
       "</table>\n",
       "<p>12750 rows × 1 columns</p>\n",
       "</div>"
      ],
      "text/plain": [
       "           student_age\n",
       "parent_id             \n",
       "1804195            NaN\n",
       "1810505            NaN\n",
       "1812805            3.0\n",
       "1812915            NaN\n",
       "1813695            NaN\n",
       "...                ...\n",
       "2828855            5.0\n",
       "2842535            5.0\n",
       "2842785            5.0\n",
       "2842905            5.0\n",
       "2843365            5.0\n",
       "\n",
       "[12750 rows x 1 columns]"
      ]
     },
     "execution_count": 14,
     "metadata": {},
     "output_type": "execute_result"
    }
   ],
   "source": [
    "parents3 = df.groupby('parent_id')[['student_age']].mean()\n",
    "parents3"
   ]
  },
  {
   "cell_type": "code",
   "execution_count": 15,
   "id": "5d091f0a-6848-42d8-97c8-059f1a26897a",
   "metadata": {},
   "outputs": [],
   "source": [
    "df['class_booking_time'] = pd.to_datetime(df['class_booking_time'])"
   ]
  },
  {
   "cell_type": "code",
   "execution_count": 16,
   "id": "2a0598b5-2af7-4811-94e6-f112bfd3f60e",
   "metadata": {},
   "outputs": [
    {
     "data": {
      "text/html": [
       "<div>\n",
       "<style scoped>\n",
       "    .dataframe tbody tr th:only-of-type {\n",
       "        vertical-align: middle;\n",
       "    }\n",
       "\n",
       "    .dataframe tbody tr th {\n",
       "        vertical-align: top;\n",
       "    }\n",
       "\n",
       "    .dataframe thead th {\n",
       "        text-align: right;\n",
       "    }\n",
       "</style>\n",
       "<table border=\"1\" class=\"dataframe\">\n",
       "  <thead>\n",
       "    <tr style=\"text-align: right;\">\n",
       "      <th></th>\n",
       "      <th>class_booking_time</th>\n",
       "    </tr>\n",
       "    <tr>\n",
       "      <th>parent_id</th>\n",
       "      <th></th>\n",
       "    </tr>\n",
       "  </thead>\n",
       "  <tbody>\n",
       "    <tr>\n",
       "      <th>1804195</th>\n",
       "      <td>2019-05-04 15:36:12.957000+00:00</td>\n",
       "    </tr>\n",
       "    <tr>\n",
       "      <th>1810505</th>\n",
       "      <td>2019-05-11 13:06:46.835000+00:00</td>\n",
       "    </tr>\n",
       "    <tr>\n",
       "      <th>1812805</th>\n",
       "      <td>2019-05-16 15:54:42.209000+00:00</td>\n",
       "    </tr>\n",
       "    <tr>\n",
       "      <th>1812915</th>\n",
       "      <td>2019-05-13 18:41:36.770000+00:00</td>\n",
       "    </tr>\n",
       "    <tr>\n",
       "      <th>1813695</th>\n",
       "      <td>2019-04-16 15:41:10.961000+00:00</td>\n",
       "    </tr>\n",
       "    <tr>\n",
       "      <th>...</th>\n",
       "      <td>...</td>\n",
       "    </tr>\n",
       "    <tr>\n",
       "      <th>2828855</th>\n",
       "      <td>NaT</td>\n",
       "    </tr>\n",
       "    <tr>\n",
       "      <th>2842535</th>\n",
       "      <td>NaT</td>\n",
       "    </tr>\n",
       "    <tr>\n",
       "      <th>2842785</th>\n",
       "      <td>NaT</td>\n",
       "    </tr>\n",
       "    <tr>\n",
       "      <th>2842905</th>\n",
       "      <td>NaT</td>\n",
       "    </tr>\n",
       "    <tr>\n",
       "      <th>2843365</th>\n",
       "      <td>NaT</td>\n",
       "    </tr>\n",
       "  </tbody>\n",
       "</table>\n",
       "<p>12750 rows × 1 columns</p>\n",
       "</div>"
      ],
      "text/plain": [
       "                        class_booking_time\n",
       "parent_id                                 \n",
       "1804195   2019-05-04 15:36:12.957000+00:00\n",
       "1810505   2019-05-11 13:06:46.835000+00:00\n",
       "1812805   2019-05-16 15:54:42.209000+00:00\n",
       "1812915   2019-05-13 18:41:36.770000+00:00\n",
       "1813695   2019-04-16 15:41:10.961000+00:00\n",
       "...                                    ...\n",
       "2828855                                NaT\n",
       "2842535                                NaT\n",
       "2842785                                NaT\n",
       "2842905                                NaT\n",
       "2843365                                NaT\n",
       "\n",
       "[12750 rows x 1 columns]"
      ]
     },
     "execution_count": 16,
     "metadata": {},
     "output_type": "execute_result"
    }
   ],
   "source": [
    "parents4 = df.groupby('parent_id')[['class_booking_time']].min()\n",
    "parents4"
   ]
  },
  {
   "cell_type": "code",
   "execution_count": 17,
   "id": "3ec3009d-12c0-4467-9032-49cbadf35a01",
   "metadata": {},
   "outputs": [
    {
     "data": {
      "text/html": [
       "<div>\n",
       "<style scoped>\n",
       "    .dataframe tbody tr th:only-of-type {\n",
       "        vertical-align: middle;\n",
       "    }\n",
       "\n",
       "    .dataframe tbody tr th {\n",
       "        vertical-align: top;\n",
       "    }\n",
       "\n",
       "    .dataframe thead th {\n",
       "        text-align: right;\n",
       "    }\n",
       "</style>\n",
       "<table border=\"1\" class=\"dataframe\">\n",
       "  <thead>\n",
       "    <tr style=\"text-align: right;\">\n",
       "      <th></th>\n",
       "      <th>teacher_is_native_english_speaker</th>\n",
       "      <th>class_topic_id</th>\n",
       "      <th>student_needs_level_correction</th>\n",
       "      <th>student_needs_class_redone</th>\n",
       "      <th>student_device_type</th>\n",
       "      <th>student_age</th>\n",
       "      <th>purchase</th>\n",
       "      <th>year</th>\n",
       "      <th>month</th>\n",
       "      <th>day_of_week</th>\n",
       "      <th>hour</th>\n",
       "    </tr>\n",
       "    <tr>\n",
       "      <th>parent_id</th>\n",
       "      <th></th>\n",
       "      <th></th>\n",
       "      <th></th>\n",
       "      <th></th>\n",
       "      <th></th>\n",
       "      <th></th>\n",
       "      <th></th>\n",
       "      <th></th>\n",
       "      <th></th>\n",
       "      <th></th>\n",
       "      <th></th>\n",
       "    </tr>\n",
       "  </thead>\n",
       "  <tbody>\n",
       "    <tr>\n",
       "      <th>1804195</th>\n",
       "      <td>False</td>\n",
       "      <td>1513.0</td>\n",
       "      <td>False</td>\n",
       "      <td>False</td>\n",
       "      <td>desktop</td>\n",
       "      <td>NaN</td>\n",
       "      <td>1</td>\n",
       "      <td>2019.0</td>\n",
       "      <td>5.0</td>\n",
       "      <td>5.0</td>\n",
       "      <td>15.0</td>\n",
       "    </tr>\n",
       "    <tr>\n",
       "      <th>1810505</th>\n",
       "      <td>False</td>\n",
       "      <td>1418.0</td>\n",
       "      <td>True</td>\n",
       "      <td>False</td>\n",
       "      <td>desktop</td>\n",
       "      <td>NaN</td>\n",
       "      <td>0</td>\n",
       "      <td>2019.0</td>\n",
       "      <td>5.0</td>\n",
       "      <td>5.0</td>\n",
       "      <td>13.0</td>\n",
       "    </tr>\n",
       "    <tr>\n",
       "      <th>1812805</th>\n",
       "      <td>False</td>\n",
       "      <td>889.0</td>\n",
       "      <td>False</td>\n",
       "      <td>True</td>\n",
       "      <td>desktop</td>\n",
       "      <td>3.0</td>\n",
       "      <td>1</td>\n",
       "      <td>2019.0</td>\n",
       "      <td>5.0</td>\n",
       "      <td>3.0</td>\n",
       "      <td>15.0</td>\n",
       "    </tr>\n",
       "    <tr>\n",
       "      <th>1812915</th>\n",
       "      <td>False</td>\n",
       "      <td>1310.0</td>\n",
       "      <td>False</td>\n",
       "      <td>True</td>\n",
       "      <td>desktop</td>\n",
       "      <td>NaN</td>\n",
       "      <td>1</td>\n",
       "      <td>2019.0</td>\n",
       "      <td>5.0</td>\n",
       "      <td>0.0</td>\n",
       "      <td>18.0</td>\n",
       "    </tr>\n",
       "    <tr>\n",
       "      <th>1813695</th>\n",
       "      <td>False</td>\n",
       "      <td>1418.0</td>\n",
       "      <td>False</td>\n",
       "      <td>False</td>\n",
       "      <td>desktop</td>\n",
       "      <td>NaN</td>\n",
       "      <td>1</td>\n",
       "      <td>2019.0</td>\n",
       "      <td>4.0</td>\n",
       "      <td>1.0</td>\n",
       "      <td>15.0</td>\n",
       "    </tr>\n",
       "    <tr>\n",
       "      <th>...</th>\n",
       "      <td>...</td>\n",
       "      <td>...</td>\n",
       "      <td>...</td>\n",
       "      <td>...</td>\n",
       "      <td>...</td>\n",
       "      <td>...</td>\n",
       "      <td>...</td>\n",
       "      <td>...</td>\n",
       "      <td>...</td>\n",
       "      <td>...</td>\n",
       "      <td>...</td>\n",
       "    </tr>\n",
       "    <tr>\n",
       "      <th>2828855</th>\n",
       "      <td>True</td>\n",
       "      <td>1644.0</td>\n",
       "      <td>True</td>\n",
       "      <td>False</td>\n",
       "      <td>NaN</td>\n",
       "      <td>5.0</td>\n",
       "      <td>1</td>\n",
       "      <td>NaN</td>\n",
       "      <td>NaN</td>\n",
       "      <td>NaN</td>\n",
       "      <td>NaN</td>\n",
       "    </tr>\n",
       "    <tr>\n",
       "      <th>2842535</th>\n",
       "      <td>False</td>\n",
       "      <td>1644.0</td>\n",
       "      <td>False</td>\n",
       "      <td>False</td>\n",
       "      <td>NaN</td>\n",
       "      <td>5.0</td>\n",
       "      <td>1</td>\n",
       "      <td>NaN</td>\n",
       "      <td>NaN</td>\n",
       "      <td>NaN</td>\n",
       "      <td>NaN</td>\n",
       "    </tr>\n",
       "    <tr>\n",
       "      <th>2842785</th>\n",
       "      <td>False</td>\n",
       "      <td>1644.0</td>\n",
       "      <td>True</td>\n",
       "      <td>False</td>\n",
       "      <td>NaN</td>\n",
       "      <td>5.0</td>\n",
       "      <td>1</td>\n",
       "      <td>NaN</td>\n",
       "      <td>NaN</td>\n",
       "      <td>NaN</td>\n",
       "      <td>NaN</td>\n",
       "    </tr>\n",
       "    <tr>\n",
       "      <th>2842905</th>\n",
       "      <td>False</td>\n",
       "      <td>1644.0</td>\n",
       "      <td>False</td>\n",
       "      <td>False</td>\n",
       "      <td>NaN</td>\n",
       "      <td>5.0</td>\n",
       "      <td>1</td>\n",
       "      <td>NaN</td>\n",
       "      <td>NaN</td>\n",
       "      <td>NaN</td>\n",
       "      <td>NaN</td>\n",
       "    </tr>\n",
       "    <tr>\n",
       "      <th>2843365</th>\n",
       "      <td>False</td>\n",
       "      <td>905.0</td>\n",
       "      <td>False</td>\n",
       "      <td>False</td>\n",
       "      <td>NaN</td>\n",
       "      <td>5.0</td>\n",
       "      <td>1</td>\n",
       "      <td>NaN</td>\n",
       "      <td>NaN</td>\n",
       "      <td>NaN</td>\n",
       "      <td>NaN</td>\n",
       "    </tr>\n",
       "  </tbody>\n",
       "</table>\n",
       "<p>12750 rows × 11 columns</p>\n",
       "</div>"
      ],
      "text/plain": [
       "           teacher_is_native_english_speaker  class_topic_id  \\\n",
       "parent_id                                                      \n",
       "1804195                                False          1513.0   \n",
       "1810505                                False          1418.0   \n",
       "1812805                                False           889.0   \n",
       "1812915                                False          1310.0   \n",
       "1813695                                False          1418.0   \n",
       "...                                      ...             ...   \n",
       "2828855                                 True          1644.0   \n",
       "2842535                                False          1644.0   \n",
       "2842785                                False          1644.0   \n",
       "2842905                                False          1644.0   \n",
       "2843365                                False           905.0   \n",
       "\n",
       "           student_needs_level_correction  student_needs_class_redone  \\\n",
       "parent_id                                                               \n",
       "1804195                             False                       False   \n",
       "1810505                              True                       False   \n",
       "1812805                             False                        True   \n",
       "1812915                             False                        True   \n",
       "1813695                             False                       False   \n",
       "...                                   ...                         ...   \n",
       "2828855                              True                       False   \n",
       "2842535                             False                       False   \n",
       "2842785                              True                       False   \n",
       "2842905                             False                       False   \n",
       "2843365                             False                       False   \n",
       "\n",
       "          student_device_type  student_age  purchase    year  month  \\\n",
       "parent_id                                                             \n",
       "1804195               desktop          NaN         1  2019.0    5.0   \n",
       "1810505               desktop          NaN         0  2019.0    5.0   \n",
       "1812805               desktop          3.0         1  2019.0    5.0   \n",
       "1812915               desktop          NaN         1  2019.0    5.0   \n",
       "1813695               desktop          NaN         1  2019.0    4.0   \n",
       "...                       ...          ...       ...     ...    ...   \n",
       "2828855                   NaN          5.0         1     NaN    NaN   \n",
       "2842535                   NaN          5.0         1     NaN    NaN   \n",
       "2842785                   NaN          5.0         1     NaN    NaN   \n",
       "2842905                   NaN          5.0         1     NaN    NaN   \n",
       "2843365                   NaN          5.0         1     NaN    NaN   \n",
       "\n",
       "           day_of_week  hour  \n",
       "parent_id                     \n",
       "1804195            5.0  15.0  \n",
       "1810505            5.0  13.0  \n",
       "1812805            3.0  15.0  \n",
       "1812915            0.0  18.0  \n",
       "1813695            1.0  15.0  \n",
       "...                ...   ...  \n",
       "2828855            NaN   NaN  \n",
       "2842535            NaN   NaN  \n",
       "2842785            NaN   NaN  \n",
       "2842905            NaN   NaN  \n",
       "2843365            NaN   NaN  \n",
       "\n",
       "[12750 rows x 11 columns]"
      ]
     },
     "execution_count": 17,
     "metadata": {},
     "output_type": "execute_result"
    }
   ],
   "source": [
    "parents = pd.concat((parents1, parents3, parents4, parents2), axis=1)\n",
    "parents.rename(columns={'first_payment_time' : 'purchase'}, inplace=True)\n",
    "\n",
    "# Before we proceed let's also decompose first class booking time \n",
    "# into year, month, day of the week, and hour\n",
    "\n",
    "parents['year'] = parents['class_booking_time'].dt.year\n",
    "parents['month'] = parents['class_booking_time'].dt.month\n",
    "parents['day_of_week'] = parents['class_booking_time'].dt.dayofweek\n",
    "parents['hour'] = parents['class_booking_time'].dt.hour\n",
    "parents.drop(columns=['class_booking_time'], inplace=True)\n",
    "\n",
    "parents"
   ]
  },
  {
   "cell_type": "code",
   "execution_count": 18,
   "id": "5f242876-aafb-4d1a-9936-af50ecbc8cb3",
   "metadata": {},
   "outputs": [
    {
     "data": {
      "text/plain": [
       "2019.0    12745\n",
       "Name: year, dtype: int64"
      ]
     },
     "execution_count": 18,
     "metadata": {},
     "output_type": "execute_result"
    }
   ],
   "source": [
    "parents['year'].value_counts()"
   ]
  },
  {
   "cell_type": "markdown",
   "id": "de9c8683-9c82-4a89-a553-2fd18b8413fe",
   "metadata": {},
   "source": [
    "All the observations are for year 2019, so we can drop this column"
   ]
  },
  {
   "cell_type": "code",
   "execution_count": 19,
   "id": "36832a78-6643-456b-a20b-2bfc27f17892",
   "metadata": {},
   "outputs": [],
   "source": [
    "parents.drop(columns=['year'], inplace=True)"
   ]
  },
  {
   "cell_type": "markdown",
   "id": "fb8c6e2f-d61b-4343-b3a9-99c57641a17f",
   "metadata": {},
   "source": [
    "## Group differences analysis "
   ]
  },
  {
   "cell_type": "markdown",
   "id": "4e91eedf-40cc-49a1-bc97-729ab7c8b650",
   "metadata": {},
   "source": [
    "Check the balance of classes"
   ]
  },
  {
   "cell_type": "code",
   "execution_count": 20,
   "id": "db65601d-64be-48c0-9e73-b144c4ac6702",
   "metadata": {},
   "outputs": [
    {
     "data": {
      "text/plain": [
       "0    6714\n",
       "1    6036\n",
       "Name: purchase, dtype: int64"
      ]
     },
     "execution_count": 20,
     "metadata": {},
     "output_type": "execute_result"
    }
   ],
   "source": [
    "parents['purchase'].value_counts()"
   ]
  },
  {
   "cell_type": "markdown",
   "id": "7359325f-fe04-4d28-a944-8e0fb1f67c9e",
   "metadata": {},
   "source": [
    "The classes are almost perfectly even, which is excellent"
   ]
  },
  {
   "cell_type": "markdown",
   "id": "e46c903c-473b-4391-b8dc-4ed5dc47343a",
   "metadata": {},
   "source": [
    "### Teacher is a native speaker"
   ]
  },
  {
   "cell_type": "markdown",
   "id": "c4c07c1e-8cbc-41a4-888b-3f09e4b8d513",
   "metadata": {},
   "source": [
    "Let's compare the proportions between groups 0 and 1 and make an A/B test to check if the difference in teacher_is_native_english_speaker proportions is statistically significant.  \n",
    "\n",
    "We will assume that our population is approximately normally distributed.  \n",
    "Alpha is 0.05."
   ]
  },
  {
   "cell_type": "code",
   "execution_count": 21,
   "id": "c847bc85-49d1-4422-90df-f67f762f6ccc",
   "metadata": {},
   "outputs": [],
   "source": [
    "from statsmodels.stats.proportion import proportions_ztest"
   ]
  },
  {
   "cell_type": "code",
   "execution_count": 22,
   "id": "2ad9da8d-1648-40da-99cc-3061ecdfaedb",
   "metadata": {},
   "outputs": [
    {
     "name": "stdout",
     "output_type": "stream",
     "text": [
      "teacher_is_native_english_speaker proportion in group 0:  0.2193923145665773\n",
      "teacher_is_native_english_speaker proportion in group 1:  0.20510271703114646\n",
      "\n",
      "statistic: 1.9689305048741887\n",
      "p-value:  0.04896107199771548\n"
     ]
    }
   ],
   "source": [
    "def proportions(parents, variable):\n",
    "    \n",
    "    a = parents.groupby('purchase')[[variable]].sum()\n",
    "    n0 = parents['purchase'].value_counts()[0]\n",
    "    n1 = parents['purchase'].value_counts()[1]\n",
    "    p0 = a.iloc[0, 0] / n0\n",
    "    p1 = a.iloc[1, 0] / n1\n",
    "    print(f\"{variable} proportion in group 0: \", p0)\n",
    "    print(f\"{variable} proportion in group 1: \", p1)\n",
    "\n",
    "    stat, pval = proportions_ztest(count=[a.iloc[0, 0], \n",
    "                                          a.iloc[1, 0]], nobs=[n0, n1])\n",
    "    print()\n",
    "    print(\"statistic:\", stat)\n",
    "    print(\"p-value: \", pval)\n",
    "    \n",
    "proportions(parents[['teacher_is_native_english_speaker', 'purchase']].dropna(), \n",
    "            'teacher_is_native_english_speaker')"
   ]
  },
  {
   "cell_type": "markdown",
   "id": "fd9d65e8-086d-4f5a-88a5-76f9147076da",
   "metadata": {},
   "source": [
    "The test shows that the difference is statistically significant."
   ]
  },
  {
   "cell_type": "markdown",
   "id": "431bcda0-6a3c-4998-8781-f4b26caa0296",
   "metadata": {},
   "source": [
    "Proportion of observations where the teacher was a native speaker is 1% higher in group 0 (no purchase) than in group 1 (purchase): 21% vs 20%.  \n",
    "\n",
    "Although the test shows significance, I doubt that this indicates that native speakers are less efficient in conversion. I am more inclined to think that there is no significant difference between native and non-native speakers in terms of trial class conversion into purchase.  \n",
    "\n",
    "This is still important because I expected to see the opposite - that native speakers make conversion more probable, which now seems to be wrong."
   ]
  },
  {
   "cell_type": "markdown",
   "id": "b2e0660e-642d-4657-a34a-0dd4ab59f406",
   "metadata": {},
   "source": [
    "### Class topic"
   ]
  },
  {
   "cell_type": "code",
   "execution_count": 23,
   "id": "29bbd1b7-61b7-443a-90d4-4d1174732f30",
   "metadata": {},
   "outputs": [],
   "source": [
    "d = parents.copy()\n",
    "\n",
    "d['class_topic_id'] = d['class_topic_id'].astype(int).astype(str)"
   ]
  },
  {
   "cell_type": "code",
   "execution_count": 24,
   "id": "d3e89cc1-9a0f-4cdf-ad7d-f9be774b2deb",
   "metadata": {},
   "outputs": [
    {
     "data": {
      "image/png": "[encoded data removed]",
      "text/plain": [
       "<Figure size 576x432 with 1 Axes>"
      ]
     },
     "metadata": {
      "needs_background": "light"
     },
     "output_type": "display_data"
    }
   ],
   "source": [
    "def my_hist(df, var, binwidth='auto', title='', rotate=90):\n",
    "    f = plt.figure()\n",
    "    f.set_size_inches(8,6)\n",
    "    sns.histplot(data=df, x=var, stat='probability', hue='purchase', \n",
    "                 binwidth=binwidth, common_norm=False)\n",
    "    plt.xticks(rotation=rotate)\n",
    "    plt.title(title)\n",
    "    plt.show()\n",
    "    \n",
    "my_hist(d[['purchase', 'class_topic_id']].dropna(), 'class_topic_id', title='Class topic')"
   ]
  },
  {
   "cell_type": "markdown",
   "id": "298aa3b2-07e2-4cf7-81fd-0698be5fc194",
   "metadata": {},
   "source": [
    "Topics 1513, 1310 and 905 seem to be more prominent among group 0.  \n",
    "\n",
    "Topics 1418, 889, 1643 and 1441 are more prominent among group 1."
   ]
  },
  {
   "cell_type": "markdown",
   "id": "86ad1571-98fd-499f-ac2e-b78c0d78b977",
   "metadata": {},
   "source": [
    "Let's check the difference for these topics for significance."
   ]
  },
  {
   "cell_type": "code",
   "execution_count": 25,
   "id": "d5fc2b60-e1d1-4fe7-9b70-d485527b0f62",
   "metadata": {},
   "outputs": [],
   "source": [
    "def group_diff(d, var, val):\n",
    "    print('Variable: ', var)\n",
    "    print('Value: ', val)\n",
    "    c0 = d[(d['purchase'] == 0) & (d[var] == val)][var].count()\n",
    "    c1 = d[(d['purchase'] == 1) & (d[var] == val)][var].count()\n",
    "    n0 = len(d[d['purchase'] == 0][var].dropna())\n",
    "    n1 = len(d[d['purchase'] == 1][var].dropna())\n",
    "    print(c0, c1)\n",
    "\n",
    "    stat, pval = proportions_ztest(count=[c0, c1], nobs=[n0, n1])\n",
    "    print(\"statistic:\", stat)\n",
    "    print(\"p-value: \", pval)\n",
    "    print()"
   ]
  },
  {
   "cell_type": "code",
   "execution_count": 26,
   "id": "05fbbbe7-9a96-42ae-9e60-46d6a1fc22ee",
   "metadata": {},
   "outputs": [
    {
     "name": "stdout",
     "output_type": "stream",
     "text": [
      "Variable:  class_topic_id\n",
      "Value:  1513\n",
      "1014 830\n",
      "statistic: 2.1670314843871754\n",
      "p-value:  0.03023245351382934\n",
      "\n",
      "Variable:  class_topic_id\n",
      "Value:  1310\n",
      "1084 844\n",
      "statistic: 3.4032108880205993\n",
      "p-value:  0.0006659885459340265\n",
      "\n",
      "Variable:  class_topic_id\n",
      "Value:  905\n",
      "575 476\n",
      "statistic: 1.3902333388550747\n",
      "p-value:  0.1644580327952242\n",
      "\n",
      "Variable:  class_topic_id\n",
      "Value:  1418\n",
      "998 991\n",
      "statistic: -2.414029371449623\n",
      "p-value:  0.015777190478169438\n",
      "\n",
      "Variable:  class_topic_id\n",
      "Value:  889\n",
      "879 826\n",
      "statistic: -0.9814611004169163\n",
      "p-value:  0.3263654081208388\n",
      "\n",
      "Variable:  class_topic_id\n",
      "Value:  1643\n",
      "604 616\n",
      "statistic: -2.3177266734605984\n",
      "p-value:  0.020464180428133676\n",
      "\n",
      "Variable:  class_topic_id\n",
      "Value:  1441\n",
      "938 912\n",
      "statistic: -1.822503140636285\n",
      "p-value:  0.06837867763353778\n",
      "\n"
     ]
    }
   ],
   "source": [
    "topics = ['1513', '1310', '905', '1418', '889', '1643', '1441']\n",
    "for t in topics:\n",
    "    group_diff(d, 'class_topic_id', t)"
   ]
  },
  {
   "cell_type": "markdown",
   "id": "d6659db1-2966-4214-995c-9cdef6f452a2",
   "metadata": {},
   "source": [
    "Difference for topics 1513, 1310, 1418 and 1643 is significant.  \n",
    "Difference for topic 905, 889 and 1441 is not significant."
   ]
  },
  {
   "cell_type": "markdown",
   "id": "ec8cd92a-f3a9-45c8-879f-61e7fe2a7db4",
   "metadata": {},
   "source": [
    "Topics 1513 and 1310 are more common among group 0 (no purchase) while 1418 and 1643 are among group 1 (purchase).  \n",
    "\n",
    "This might be due to the nature of the topics, i.e. 1513 and 1310 are more \"popular\"/introductory while 1418 and 1643 could be more specialized/advanced so that people who go after it have more determination to pursue it further.   \n",
    "\n",
    "Or it could be training for exams that people are more willing to purchase a complete course of.\n",
    "\n",
    "Or a specific subject that is popular/unpopular for some reason (i.e. studying numbers is usually difficult while talking about travel is usually more fun)\n",
    "\n",
    "This could also be a result of teacher self-selection if these topics are common among particular groups of teachers. For example, if for some reason certain topics are more common among male teachers and others among female, it could also affect students preferences and produce this difference. "
   ]
  },
  {
   "cell_type": "markdown",
   "id": "452a6ae6-2008-4788-8f65-5681157b4062",
   "metadata": {},
   "source": [
    "### Student needs level correction"
   ]
  },
  {
   "cell_type": "code",
   "execution_count": 27,
   "id": "49bce6bf-da9c-4b55-93bf-f0fefc76d7cf",
   "metadata": {},
   "outputs": [
    {
     "name": "stdout",
     "output_type": "stream",
     "text": [
      "student_needs_level_correction proportion in group 0:  0.14462317545427464\n",
      "student_needs_level_correction proportion in group 1:  0.1386679920477137\n",
      "\n",
      "statistic: 0.9624273350913415\n",
      "p-value:  0.33583498811711077\n"
     ]
    }
   ],
   "source": [
    "proportions(d[['student_needs_level_correction', 'purchase']].dropna(), 'student_needs_level_correction')"
   ]
  },
  {
   "cell_type": "markdown",
   "id": "1da4b815-5272-4a42-83db-5e3d9c4e51e6",
   "metadata": {},
   "source": [
    "The test shows no significant difference between the two groups in terms of proportion of students who need level correction."
   ]
  },
  {
   "cell_type": "markdown",
   "id": "0811c53b-0a6e-43cc-ab5c-04f710ff769b",
   "metadata": {},
   "source": [
    "### Student needs class redone"
   ]
  },
  {
   "cell_type": "code",
   "execution_count": 28,
   "id": "f19ef26b-bf25-469d-ba32-6a8e62aaedab",
   "metadata": {},
   "outputs": [
    {
     "name": "stdout",
     "output_type": "stream",
     "text": [
      "student_needs_class_redone proportion in group 0:  0.12392016681560918\n",
      "student_needs_class_redone proportion in group 1:  0.1288933068257124\n",
      "\n",
      "statistic: -0.8441031659518797\n",
      "p-value:  0.3986117587322986\n"
     ]
    }
   ],
   "source": [
    "proportions(d[['student_needs_class_redone', 'purchase']].dropna(), 'student_needs_class_redone')"
   ]
  },
  {
   "cell_type": "markdown",
   "id": "7b49ee46-6d67-4f55-8786-377648bf36a5",
   "metadata": {},
   "source": [
    "Again we see no statistically significant difference between the two groups."
   ]
  },
  {
   "cell_type": "markdown",
   "id": "fa55d5c3-a009-44d0-8aba-488ecfbe58ec",
   "metadata": {},
   "source": [
    "### Device type"
   ]
  },
  {
   "cell_type": "code",
   "execution_count": 29,
   "id": "7721dcc3-95e4-4843-a357-0b10ae9dac3d",
   "metadata": {
    "tags": []
   },
   "outputs": [
    {
     "data": {
      "image/png": "[encoded data removed]",
      "text/plain": [
       "<Figure size 576x432 with 1 Axes>"
      ]
     },
     "metadata": {
      "needs_background": "light"
     },
     "output_type": "display_data"
    }
   ],
   "source": [
    "my_hist(d[['purchase', 'student_device_type']].dropna(), 'student_device_type')"
   ]
  },
  {
   "cell_type": "code",
   "execution_count": 30,
   "id": "0acedd57-540a-48b5-9541-24eb65d0eaba",
   "metadata": {},
   "outputs": [
    {
     "name": "stdout",
     "output_type": "stream",
     "text": [
      "Desktops share in group 0:  0.6844696404594958\n",
      "Mobile share in group 0:  0.20274503953453676\n",
      "Tablets share in group 0:  0.11278532000596747\n",
      "\n",
      "Desktops share in group 1:  0.7478740862300463\n",
      "Mobile share in group 1:  0.0616142025958526\n",
      "Tablets share in group 1:  0.08891541100999552\n"
     ]
    }
   ],
   "source": [
    "desktop0 = len(\n",
    "    d[(d['student_device_type'] == 'desktop') & (d['purchase'] == 0)])\n",
    "mobile0 = len(\n",
    "    d[(d['student_device_type'] == 'mobile') & (d['purchase'] == 0)])\n",
    "tablet0 = len(\n",
    "    d[(d['student_device_type'] == 'tablet') & (d['purchase'] == 0)])\n",
    "len0 = len(d[d['purchase'] == 0]['student_device_type'].dropna())\n",
    "\n",
    "print('Desktops share in group 0: ', desktop0 / len0)\n",
    "print('Mobile share in group 0: ', mobile0 / len0)\n",
    "print('Tablets share in group 0: ', tablet0 / len0)\n",
    "\n",
    "print()\n",
    "\n",
    "desktop1 = len(\n",
    "    d[(d['student_device_type'] == 'desktop') & (d['purchase'] == 1)])\n",
    "mobile1 = len(\n",
    "    d[(d['student_device_type'] == 'mobile') & (d['purchase'] == 1)])\n",
    "tablet1 = len(\n",
    "    d[(d['student_device_type'] == 'tablet') & (d['purchase'] == 1)])\n",
    "len1 = len(d[d['purchase'] == 1]['student_device_type'].dropna())\n",
    "\n",
    "print('Desktops share in group 1: ', desktop1 / len0)\n",
    "print('Mobile share in group 1: ', mobile1 / len0)\n",
    "print('Tablets share in group 1: ', tablet1 / len0)"
   ]
  },
  {
   "cell_type": "markdown",
   "id": "91753c2d-569b-4fb3-9ea2-c6f9b457fba2",
   "metadata": {},
   "source": [
    "We can see that desktop devices are more prominent among group 1 while mobile + tablets are more popular with group 0.  \n",
    "\n",
    "Let's check this for significance. "
   ]
  },
  {
   "cell_type": "code",
   "execution_count": 31,
   "id": "a4b5ab8f-6d5a-47b0-8d4e-5038dff55308",
   "metadata": {},
   "outputs": [
    {
     "name": "stdout",
     "output_type": "stream",
     "text": [
      "Variable:  student_device_type\n",
      "Value:  desktop\n",
      "4588 5013\n",
      "statistic: -19.364997146038906\n",
      "p-value:  1.5236333901355165e-83\n",
      "\n"
     ]
    }
   ],
   "source": [
    "group_diff(d, 'student_device_type', 'desktop')"
   ]
  },
  {
   "cell_type": "code",
   "execution_count": 32,
   "id": "f7af94d0-16a6-4f6c-99ae-f94eb1c51bcd",
   "metadata": {},
   "outputs": [
    {
     "name": "stdout",
     "output_type": "stream",
     "text": [
      "Variable:  student_device_type\n",
      "Value:  mobile\n",
      "1359 413\n",
      "statistic: 21.82573104918042\n",
      "p-value:  1.3220685087874644e-105\n",
      "\n"
     ]
    }
   ],
   "source": [
    "group_diff(d, 'student_device_type', 'mobile')"
   ]
  },
  {
   "cell_type": "code",
   "execution_count": 33,
   "id": "70cc9db6-1f4f-4a21-bd69-11f69702b7c7",
   "metadata": {},
   "outputs": [
    {
     "name": "stdout",
     "output_type": "stream",
     "text": [
      "Variable:  student_device_type\n",
      "Value:  tablet\n",
      "756 596\n",
      "statistic: 2.5249633494274564\n",
      "p-value:  0.011571035608058649\n",
      "\n"
     ]
    }
   ],
   "source": [
    "group_diff(d, 'student_device_type', 'tablet')"
   ]
  },
  {
   "cell_type": "markdown",
   "id": "7940d4e3-42d9-433a-badd-14d862b4bf2c",
   "metadata": {},
   "source": [
    "All three differences are statistically significant."
   ]
  },
  {
   "cell_type": "markdown",
   "id": "b2b00160-50a9-44ee-a3b9-ff80dd908493",
   "metadata": {},
   "source": [
    "This result indicates that students using mobile devices (or tablets) are more likely to be in group 0, i.e. they don't purchase a full course after a trial class, while students using desktop devices are more likely to do so.  \n",
    "\n",
    "This sounds natural to me. Using desktop device for studies is generally better and usually advised by most online courses. Students who neglect this are less likely to later purchase a full course.  \n",
    "\n",
    "On the other hand, this might be a sign of a negative experience with mobile version of company website/app. Perhaps the UI is not convenient, fewer features are present or the app is unstable. If this is true, more efforts into mobile development might be warranted."
   ]
  },
  {
   "cell_type": "markdown",
   "id": "0e5ba782-acc4-4918-a39d-3f67bb5ec0b5",
   "metadata": {},
   "source": [
    "### Student's age"
   ]
  },
  {
   "cell_type": "code",
   "execution_count": 34,
   "id": "06bef5c4-148d-4980-8603-9ba47522846e",
   "metadata": {},
   "outputs": [
    {
     "data": {
      "image/png": "[encoded data removed]",
      "text/plain": [
       "<Figure size 576x432 with 1 Axes>"
      ]
     },
     "metadata": {
      "needs_background": "light"
     },
     "output_type": "display_data"
    }
   ],
   "source": [
    "my_hist(d[['purchase', 'student_age']].dropna(), 'student_age', title='Students age', binwidth=1, rotate=0)"
   ]
  },
  {
   "cell_type": "code",
   "execution_count": 35,
   "id": "def5d2b7-6789-4c06-b545-93b2d6fe79b7",
   "metadata": {},
   "outputs": [
    {
     "name": "stdout",
     "output_type": "stream",
     "text": [
      "Age 3-4 proportion in group 0:  0.5656943405634505\n",
      "Age 4-5 proportion in group 0:  0.32410870107205186\n",
      "Age 5-6 proportion in group 0:  0.1012216404886562\n",
      "Age 6-7 proportion in group 0:  0.008975317875841436\n",
      "\n",
      "Age 3-4 proportion in group 1:  0.6413632842757552\n",
      "Age 4-5 proportion in group 1:  0.3139684998709011\n",
      "Age 5-6 proportion in group 1:  0.042860831396849985\n",
      "Age 6-7 proportion in group 1:  0.0018073844564936742\n"
     ]
    }
   ],
   "source": [
    "age3_g0 = parents[(parents['purchase'] == 0) & \n",
    "                  (parents['student_age'] < 4)]['student_age'].count()\n",
    "age4_g0 = parents[(parents['purchase'] == 0) & \n",
    "                  (parents['student_age'] >= 4) & (parents['student_age'] < 5)]['student_age'].count()\n",
    "age5_g0 = parents[(parents['purchase'] == 0) & \n",
    "                  (parents['student_age'] >= 5) & (parents['student_age'] < 6)]['student_age'].count()\n",
    "age6_g0 = parents[(parents['purchase'] == 0) & \n",
    "                  (parents['student_age'] >= 6) & (parents['student_age'] <= 7)]['student_age'].count()\n",
    "\n",
    "len0 = len(d[d['purchase'] == 0]['student_age'].dropna())\n",
    "\n",
    "print('Age 3-4 proportion in group 0: ', age3_g0/len0)\n",
    "print('Age 4-5 proportion in group 0: ', age4_g0/len0)\n",
    "print('Age 5-6 proportion in group 0: ', age5_g0/len0)\n",
    "print('Age 6-7 proportion in group 0: ', age6_g0/len0)\n",
    "print()\n",
    "\n",
    "age3_g1 = parents[(parents['purchase'] == 1) & \n",
    "                  (parents['student_age'] < 4)]['student_age'].count()\n",
    "age4_g1 = parents[(parents['purchase'] == 1) & \n",
    "                  (parents['student_age'] >= 4) & (parents['student_age'] < 5)]['student_age'].count()\n",
    "age5_g1 = parents[(parents['purchase'] == 1) & \n",
    "                  (parents['student_age'] >= 5) & (parents['student_age'] < 6)]['student_age'].count()\n",
    "age6_g1 = parents[(parents['purchase'] == 1) & \n",
    "                  (parents['student_age'] >= 6) & (parents['student_age'] <= 7)]['student_age'].count()\n",
    "\n",
    "len1 = len(d[d['purchase'] == 1]['student_age'].dropna())\n",
    "\n",
    "print('Age 3-4 proportion in group 1: ', age3_g1/len1)\n",
    "print('Age 4-5 proportion in group 1: ', age4_g1/len1)\n",
    "print('Age 5-6 proportion in group 1: ', age5_g1/len1)\n",
    "print('Age 6-7 proportion in group 1: ', age6_g1/len1)"
   ]
  },
  {
   "cell_type": "code",
   "execution_count": 36,
   "id": "a8f40148-7fad-4787-b863-818cf7549250",
   "metadata": {},
   "outputs": [
    {
     "name": "stdout",
     "output_type": "stream",
     "text": [
      "Age 3-4\n",
      "statistic: -6.86460603637638\n",
      "p-value:  6.6674999842767764e-12\n",
      "\n",
      "Age 4-5\n",
      "statistic: 0.9656247477260752\n",
      "p-value:  0.3342319872026318\n",
      "\n",
      "Age 5-6\n",
      "statistic: 9.986851351049628\n",
      "p-value:  1.74021701305523e-23\n",
      "\n",
      "Age 6-7\n",
      "statistic: 4.320135765098627\n",
      "p-value:  1.559332359143498e-05\n",
      "\n"
     ]
    }
   ],
   "source": [
    "stat, pval = proportions_ztest(count=[age3_g0, age3_g1], nobs=[len0, len1])\n",
    "print('Age 3-4')\n",
    "print(\"statistic:\", stat)\n",
    "print(\"p-value: \", pval)\n",
    "print()\n",
    "\n",
    "stat, pval = proportions_ztest(count=[age4_g0, age4_g1], nobs=[len0, len1])\n",
    "print('Age 4-5')\n",
    "print(\"statistic:\", stat)\n",
    "print(\"p-value: \", pval)\n",
    "print()\n",
    "\n",
    "stat, pval = proportions_ztest(count=[age5_g0, age5_g1], nobs=[len0, len1])\n",
    "print('Age 5-6')\n",
    "print(\"statistic:\", stat)\n",
    "print(\"p-value: \", pval)\n",
    "print()\n",
    "\n",
    "stat, pval = proportions_ztest(count=[age6_g0, age6_g1], nobs=[len0, len1])\n",
    "print('Age 6-7')\n",
    "print(\"statistic:\", stat)\n",
    "print(\"p-value: \", pval)\n",
    "print()"
   ]
  },
  {
   "cell_type": "markdown",
   "id": "4949368d-54fa-420d-b67e-2c98f49ac36b",
   "metadata": {},
   "source": [
    "The difference is significant for ages 3-4, 5-6 and 6-7. \n",
    "\n",
    "In other words, purchases are more likely for parents with kids aged 3-4 and less likely for ages 5-7. \n",
    "\n",
    "One of the possible reasons is that kids at the age 3-4 years are more easily involved in the study process. Or maybe their parents believe so. \n",
    "\n",
    "Or maybe parents believe that this is the perfect time to begin language studies and so they naturally are more committed to purchase a full course (or marketing department works well).\n",
    "\n",
    "Maybe at later age kids and their parents become more \"picky\" about courses they want to choose. For example, they could be looking for courses that are better aligned with their elementart school curriculum. If so, this requires deeper insight into competition at this stage - how to convince parents this company is better than numerous other activites competing for their kids attention.  \n",
    "\n",
    "Or perhaps the company's teachers are better with this particular group (3-4). Or marketing department's efforts have been more succesfull at targeting this particular group."
   ]
  },
  {
   "cell_type": "markdown",
   "id": "9b8d61f0-70d3-4232-b24b-7ddc0b52e2e8",
   "metadata": {},
   "source": [
    "### Month, day of week and hour"
   ]
  },
  {
   "cell_type": "code",
   "execution_count": 37,
   "id": "a4c55d62-d063-4dfa-8f22-3008e8feee14",
   "metadata": {},
   "outputs": [],
   "source": [
    "d2 = d[['purchase', 'month']].copy()\n",
    "d2.dropna(inplace=True)\n",
    "d2['month'] = d2['month'].astype(int)"
   ]
  },
  {
   "cell_type": "code",
   "execution_count": 38,
   "id": "ad855d8b-81c4-41b3-9761-5a239d2c4dcd",
   "metadata": {},
   "outputs": [
    {
     "data": {
      "text/plain": [
       "purchase  month\n",
       "0         5        4439\n",
       "1         5        4087\n",
       "0         4        2275\n",
       "1         4        1944\n",
       "dtype: int64"
      ]
     },
     "execution_count": 38,
     "metadata": {},
     "output_type": "execute_result"
    }
   ],
   "source": [
    "d2.value_counts()"
   ]
  },
  {
   "cell_type": "code",
   "execution_count": 39,
   "id": "cbb22c36-fcec-4dc5-875e-79a0ffe34da7",
   "metadata": {},
   "outputs": [
    {
     "data": {
      "image/png": "[encoded data removed]",
      "text/plain": [
       "<Figure size 432x288 with 1 Axes>"
      ]
     },
     "metadata": {
      "needs_background": "light"
     },
     "output_type": "display_data"
    }
   ],
   "source": [
    "sns.histplot(d2, x='month', discrete=True, hue='purchase', \n",
    "             stat='probability', common_norm=False)\n",
    "plt.show()"
   ]
  },
  {
   "cell_type": "code",
   "execution_count": 40,
   "id": "4e3d65ed-eab1-42e0-af58-411265ad6b37",
   "metadata": {},
   "outputs": [
    {
     "name": "stdout",
     "output_type": "stream",
     "text": [
      "Variable:  month\n",
      "Value:  4\n",
      "2275 1944\n",
      "statistic: 1.9774905593100431\n",
      "p-value:  0.04798620659973936\n",
      "\n"
     ]
    }
   ],
   "source": [
    "group_diff(d2, 'month', 4)"
   ]
  },
  {
   "cell_type": "code",
   "execution_count": 41,
   "id": "4fa8c7b0-87b8-4251-9260-516a810eefb7",
   "metadata": {},
   "outputs": [
    {
     "name": "stdout",
     "output_type": "stream",
     "text": [
      "Variable:  month\n",
      "Value:  5\n",
      "4439 4087\n",
      "statistic: -1.9774905593100365\n",
      "p-value:  0.047986206599740094\n",
      "\n"
     ]
    }
   ],
   "source": [
    "group_diff(d2, 'month', 5)"
   ]
  },
  {
   "cell_type": "markdown",
   "id": "f0eb5dce-46ad-4568-ad3f-34dd049cc9a9",
   "metadata": {},
   "source": [
    "Even though the difference is significant, it is very small. There are only two months in the sample, and probability of purchase was slightly higher in May than in April. Even though this could be seasonality, this could also some random fluctuation in monthly data.\n",
    "\n",
    "The data is prepandemic (year 2019)."
   ]
  },
  {
   "cell_type": "code",
   "execution_count": 42,
   "id": "da1b0e55-0612-4c0d-bc18-f8619dc37498",
   "metadata": {},
   "outputs": [],
   "source": [
    "d3 = d[['purchase', 'day_of_week']].copy()\n",
    "d3.dropna(inplace=True)\n",
    "d3['day_of_week'] = d3['day_of_week'].astype(int)"
   ]
  },
  {
   "cell_type": "code",
   "execution_count": 43,
   "id": "a9d4aced-8d62-4f62-9de2-b04b33f243c7",
   "metadata": {},
   "outputs": [
    {
     "data": {
      "image/png": "[encoded data removed]",
      "text/plain": [
       "<Figure size 432x288 with 1 Axes>"
      ]
     },
     "metadata": {
      "needs_background": "light"
     },
     "output_type": "display_data"
    }
   ],
   "source": [
    "sns.histplot(d3, x='day_of_week', discrete=True, hue='purchase', \n",
    "             stat='probability', common_norm=False)\n",
    "plt.title('Booking day of the week')\n",
    "plt.show()"
   ]
  },
  {
   "cell_type": "code",
   "execution_count": 44,
   "id": "798153b2-02a5-4f3b-9f76-b6f8460475b4",
   "metadata": {},
   "outputs": [
    {
     "name": "stdout",
     "output_type": "stream",
     "text": [
      "Variable:  day_of_week\n",
      "Value:  0\n",
      "1006 924\n",
      "statistic: -0.5302545152070861\n",
      "p-value:  0.5959354782792634\n",
      "\n",
      "Variable:  day_of_week\n",
      "Value:  1\n",
      "949 845\n",
      "statistic: 0.20048821060288252\n",
      "p-value:  0.8410987773985703\n",
      "\n",
      "Variable:  day_of_week\n",
      "Value:  2\n",
      "910 755\n",
      "statistic: 1.731277548859701\n",
      "p-value:  0.08340227375932413\n",
      "\n",
      "Variable:  day_of_week\n",
      "Value:  3\n",
      "903 707\n",
      "statistic: 2.929711477516052\n",
      "p-value:  0.00339276862739581\n",
      "\n",
      "Variable:  day_of_week\n",
      "Value:  4\n",
      "902 816\n",
      "statistic: -0.15758999315869798\n",
      "p-value:  0.8747798893401888\n",
      "\n",
      "Variable:  day_of_week\n",
      "Value:  5\n",
      "1004 957\n",
      "statistic: -1.4281103367779104\n",
      "p-value:  0.1532601027280615\n",
      "\n",
      "Variable:  day_of_week\n",
      "Value:  6\n",
      "1040 1027\n",
      "statistic: -2.352794121242624\n",
      "p-value:  0.01863294738475015\n",
      "\n"
     ]
    }
   ],
   "source": [
    "for i in range(7):\n",
    "    group_diff(d3, 'day_of_week', i)"
   ]
  },
  {
   "cell_type": "markdown",
   "id": "780d896c-702a-42ac-9136-f20573d62a71",
   "metadata": {},
   "source": [
    "Significant difference was found for Thursdays and Sundays. If a trial class is booked on Thursdays there is a higher probability of no-purchase, while on Sundays it is higher for purchase.\n",
    "\n",
    "Sunday seems natural because this is the time when parents and their kids have time to  thoroughly choose a school and can concentrate on the study.\n",
    "\n",
    "Thursday, however, is a surprise. Perhaps there is a manager who has shifts on Thursdays and is not doing particularly well? "
   ]
  },
  {
   "cell_type": "code",
   "execution_count": 45,
   "id": "49d2f286-cc3e-4af6-b803-d0990cb18e23",
   "metadata": {},
   "outputs": [
    {
     "data": {
      "image/png": "[encoded data removed]",
      "text/plain": [
       "<Figure size 432x288 with 1 Axes>"
      ]
     },
     "metadata": {
      "needs_background": "light"
     },
     "output_type": "display_data"
    }
   ],
   "source": [
    "d4 = d[['purchase', 'hour']].copy()\n",
    "d4.dropna(inplace=True)\n",
    "d4['hour'] = d4['hour'].astype(int)\n",
    "sns.histplot(d4, x='hour', discrete=True, hue='purchase', \n",
    "             stat='probability', common_norm=False)\n",
    "plt.title('Booking hour')\n",
    "plt.show()"
   ]
  },
  {
   "cell_type": "code",
   "execution_count": 46,
   "id": "876212e9-359a-4c1f-95d3-12cf37fdf24f",
   "metadata": {},
   "outputs": [
    {
     "name": "stdout",
     "output_type": "stream",
     "text": [
      "Variable:  hour\n",
      "Value:  1\n",
      "57 43\n",
      "statistic: 0.8687619949711564\n",
      "p-value:  0.38497732447148236\n",
      "\n",
      "Variable:  hour\n",
      "Value:  2\n",
      "63 45\n",
      "statistic: 1.181840000867007\n",
      "p-value:  0.23726919258432866\n",
      "\n",
      "Variable:  hour\n",
      "Value:  3\n",
      "68 44\n",
      "statistic: 1.710627517276768\n",
      "p-value:  0.08714989588451424\n",
      "\n",
      "Variable:  hour\n",
      "Value:  4\n",
      "104 73\n",
      "statistic: 1.6308298733137911\n",
      "p-value:  0.10292622212948424\n",
      "\n",
      "Variable:  hour\n",
      "Value:  5\n",
      "186 108\n",
      "statistic: 3.678075532987513\n",
      "p-value:  0.00023500037463823034\n",
      "\n",
      "Variable:  hour\n",
      "Value:  6\n",
      "305 221\n",
      "statistic: 2.48891536041758\n",
      "p-value:  0.01281334661755211\n",
      "\n",
      "Variable:  hour\n",
      "Value:  7\n",
      "347 283\n",
      "statistic: 1.237436862044937\n",
      "p-value:  0.21592494080709024\n",
      "\n",
      "Variable:  hour\n",
      "Value:  8\n",
      "426 391\n",
      "statistic: -0.3180749968284846\n",
      "p-value:  0.7504280491297616\n",
      "\n",
      "Variable:  hour\n",
      "Value:  9\n",
      "434 436\n",
      "statistic: -1.7102502092750487\n",
      "p-value:  0.08721961467977782\n",
      "\n",
      "Variable:  hour\n",
      "Value:  10\n",
      "484 459\n",
      "statistic: -0.865360782029134\n",
      "p-value:  0.3868407992728903\n",
      "\n",
      "Variable:  hour\n",
      "Value:  11\n",
      "487 462\n",
      "statistic: -0.873705111521834\n",
      "p-value:  0.38227886656830445\n",
      "\n",
      "Variable:  hour\n",
      "Value:  12\n",
      "480 452\n",
      "statistic: -0.7477437451390372\n",
      "p-value:  0.45461473958545096\n",
      "\n",
      "Variable:  hour\n",
      "Value:  13\n",
      "443 394\n",
      "statistic: 0.14845196187735715\n",
      "p-value:  0.8819860946691235\n",
      "\n",
      "Variable:  hour\n",
      "Value:  14\n",
      "386 394\n",
      "statistic: -1.8429749702828333\n",
      "p-value:  0.06533266502681197\n",
      "\n",
      "Variable:  hour\n",
      "Value:  15\n",
      "398 397\n",
      "statistic: -1.52601766614761\n",
      "p-value:  0.1270054649222309\n",
      "\n",
      "Variable:  hour\n",
      "Value:  16\n",
      "426 378\n",
      "statistic: 0.1792977174889466\n",
      "p-value:  0.8577039389930357\n",
      "\n",
      "Variable:  hour\n",
      "Value:  17\n",
      "438 372\n",
      "statistic: 0.8214911152915263\n",
      "p-value:  0.4113665828096965\n",
      "\n",
      "Variable:  hour\n",
      "Value:  18\n",
      "314 286\n",
      "statistic: -0.17396590622618277\n",
      "p-value:  0.8618922565095922\n",
      "\n",
      "Variable:  hour\n",
      "Value:  19\n",
      "261 261\n",
      "statistic: -1.252049908588383\n",
      "p-value:  0.21055167857353974\n",
      "\n",
      "Variable:  hour\n",
      "Value:  20\n",
      "197 206\n",
      "statistic: -1.5510388533046735\n",
      "p-value:  0.12089237319654421\n",
      "\n",
      "Variable:  hour\n",
      "Value:  21\n",
      "166 143\n",
      "statistic: 0.371462236967261\n",
      "p-value:  0.7102932776115249\n",
      "\n",
      "Variable:  hour\n",
      "Value:  22\n",
      "109 91\n",
      "statistic: 0.5197554280420706\n",
      "p-value:  0.6032340489245525\n",
      "\n",
      "Variable:  hour\n",
      "Value:  23\n",
      "88 49\n",
      "statistic: 2.723312788728462\n",
      "p-value:  0.006463083435606856\n",
      "\n"
     ]
    }
   ],
   "source": [
    "for i in range(1, 24):\n",
    "    group_diff(d4, 'hour', i)"
   ]
  },
  {
   "cell_type": "markdown",
   "id": "6b469a6a-0e89-4dfa-9f3e-017a1945aed2",
   "metadata": {},
   "source": [
    "When booking a trial class between 5 to 6 AM parents are less likely to purchase a full course.\n",
    "\n",
    "Perhaps this is done before work/school and parents are less focused so maybe this is why they are less likely to buy a full course later."
   ]
  },
  {
   "cell_type": "markdown",
   "id": "3a73312e-dc01-455f-9e13-f8c98ff066e2",
   "metadata": {},
   "source": [
    "# Conclusion"
   ]
  },
  {
   "cell_type": "markdown",
   "id": "fcecc500-0508-471c-990c-ff39a19473bd",
   "metadata": {},
   "source": [
    "1. “Purchasers” use desktop devices more frequently. An inquiry into company's mobile app is required, i.e. it could have technical issues, inefficient customer journey map (\"too many clicks needed\"), unintuitive UI, etc.\n",
    "\n",
    "1. Purchases are more likely for parents with kids aged 3-4 and less likely for ages 5-7. The explanation could lie in \"overtargeting\" a specific audience at the company's website, i.e. customers using company's website might conclude that the courses are better suited for younger kids. Also this might be due to more factors competing for kids attention as they grow, which requires broader market competition analysis.\n",
    "\n",
    "1. Topics 1418 and 1643 have higher probability of conversion while 1513 and 1310 - lower. This might be due to the latter having inconsistent curriculum, teachers' self-selection, or targeting the \"wrong\" audience.\n",
    "\n",
    "1. Bookings during Sundays are more likely to become a purchase while bookings during Thursdays are less so. Also, booking a trial class between 5 to 6 AM is less likely to achieve conversion. I do not have a ready business explanation for this. Perhaps this can be attributed to using UTC timing without proper time zone segregation. Enriching data with geography could further benefit the analysis."
   ]
  }
 ],
 "metadata": {
  "kernelspec": {
   "display_name": "Python 3 (ipykernel)",
   "language": "python",
   "name": "python3"
  },
  "language_info": {
   "codemirror_mode": {
    "name": "ipython",
    "version": 3
   },
   "file_extension": ".py",
   "mimetype": "text/x-python",
   "name": "python",
   "nbconvert_exporter": "python",
   "pygments_lexer": "ipython3",
   "version": "3.9.7"
  }
 },
 "nbformat": 4,
 "nbformat_minor": 5
}
